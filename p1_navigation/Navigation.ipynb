{
 "cells": [
  {
   "cell_type": "markdown",
   "metadata": {},
   "source": [
    "# Navigation\n",
    "\n",
    "---\n",
    "\n",
    "In this notebook, you will learn how to use the Unity ML-Agents environment for the first project of the [Deep Reinforcement Learning Nanodegree](https://www.udacity.com/course/deep-reinforcement-learning-nanodegree--nd893).\n",
    "\n",
    "### 1. Start the Environment\n",
    "\n",
    "We begin by importing some necessary packages.  If the code cell below returns an error, please revisit the project instructions to double-check that you have installed [Unity ML-Agents](https://github.com/Unity-Technologies/ml-agents/blob/master/docs/Installation.md) and [NumPy](http://www.numpy.org/)."
   ]
  },
  {
   "cell_type": "code",
   "execution_count": 1,
   "metadata": {},
   "outputs": [],
   "source": [
    "from unityagents import UnityEnvironment\n",
    "import numpy as np"
   ]
  },
  {
   "cell_type": "markdown",
   "metadata": {},
   "source": [
    "Next, we will start the environment!  **_Before running the code cell below_**, change the `file_name` parameter to match the location of the Unity environment that you downloaded.\n",
    "\n",
    "- **Mac**: `\"path/to/Banana.app\"`\n",
    "- **Windows** (x86): `\"path/to/Banana_Windows_x86/Banana.exe\"`\n",
    "- **Windows** (x86_64): `\"path/to/Banana_Windows_x86_64/Banana.exe\"`\n",
    "- **Linux** (x86): `\"path/to/Banana_Linux/Banana.x86\"`\n",
    "- **Linux** (x86_64): `\"path/to/Banana_Linux/Banana.x86_64\"`\n",
    "- **Linux** (x86, headless): `\"path/to/Banana_Linux_NoVis/Banana.x86\"`\n",
    "- **Linux** (x86_64, headless): `\"path/to/Banana_Linux_NoVis/Banana.x86_64\"`\n",
    "\n",
    "For instance, if you are using a Mac, then you downloaded `Banana.app`.  If this file is in the same folder as the notebook, then the line below should appear as follows:\n",
    "```\n",
    "env = UnityEnvironment(file_name=\"Banana.app\")\n",
    "```"
   ]
  },
  {
   "cell_type": "code",
   "execution_count": 2,
   "metadata": {},
   "outputs": [
    {
     "output_type": "stream",
     "name": "stderr",
     "text": [
      "INFO:unityagents:\n'Academy' started successfully!\nUnity Academy name: Academy\n        Number of Brains: 1\n        Number of External Brains : 1\n        Lesson number : 0\n        Reset Parameters :\n\t\t\nUnity brain name: BananaBrain\n        Number of Visual Observations (per agent): 0\n        Vector Observation space type: continuous\n        Vector Observation space size (per agent): 37\n        Number of stacked Vector Observation: 1\n        Vector Action space type: discrete\n        Vector Action space size (per agent): 4\n        Vector Action descriptions: , , , \n"
     ]
    }
   ],
   "source": [
    "env = UnityEnvironment(file_name=\"Banana_Linux/Banana.x86_64\")"
   ]
  },
  {
   "cell_type": "markdown",
   "metadata": {},
   "source": [
    "Environments contain **_brains_** which are responsible for deciding the actions of their associated agents. Here we check for the first brain available, and set it as the default brain we will be controlling from Python."
   ]
  },
  {
   "cell_type": "code",
   "execution_count": 3,
   "metadata": {},
   "outputs": [],
   "source": [
    "# get the default brain\n",
    "brain_name = env.brain_names[0]\n",
    "brain = env.brains[brain_name]"
   ]
  },
  {
   "cell_type": "markdown",
   "metadata": {},
   "source": [
    "### 2. Examine the State and Action Spaces\n",
    "\n",
    "The simulation contains a single agent that navigates a large environment.  At each time step, it has four actions at its disposal:\n",
    "- `0` - walk forward \n",
    "- `1` - walk backward\n",
    "- `2` - turn left\n",
    "- `3` - turn right\n",
    "\n",
    "The state space has `37` dimensions and contains the agent's velocity, along with ray-based perception of objects around agent's forward direction.  A reward of `+1` is provided for collecting a yellow banana, and a reward of `-1` is provided for collecting a blue banana. \n",
    "\n",
    "Run the code cell below to print some information about the environment."
   ]
  },
  {
   "cell_type": "code",
   "execution_count": 4,
   "metadata": {},
   "outputs": [
    {
     "output_type": "stream",
     "name": "stdout",
     "text": [
      "Number of agents: 1\nNumber of actions: 4\nStates look like: [1.         0.         0.         0.         0.84408134 0.\n 0.         1.         0.         0.0748472  0.         1.\n 0.         0.         0.25755    1.         0.         0.\n 0.         0.74177343 0.         1.         0.         0.\n 0.25854847 0.         0.         1.         0.         0.09355672\n 0.         1.         0.         0.         0.31969345 0.\n 0.        ]\nStates have length: 37\n"
     ]
    }
   ],
   "source": [
    "# reset the environment\n",
    "env_info = env.reset(train_mode=True)[brain_name]\n",
    "\n",
    "# number of agents in the environment\n",
    "print('Number of agents:', len(env_info.agents))\n",
    "\n",
    "# number of actions\n",
    "action_size = brain.vector_action_space_size\n",
    "print('Number of actions:', action_size)\n",
    "\n",
    "# examine the state space \n",
    "state = env_info.vector_observations[0]\n",
    "print('States look like:', state)\n",
    "state_size = len(state)\n",
    "print('States have length:', state_size)"
   ]
  },
  {
   "cell_type": "markdown",
   "metadata": {},
   "source": [
    "### 3. Take Random Actions in the Environment\n",
    "\n",
    "In the next code cell, you will learn how to use the Python API to control the agent and receive feedback from the environment.\n",
    "\n",
    "Once this cell is executed, you will watch the agent's performance, if it selects an action (uniformly) at random with each time step.  A window should pop up that allows you to observe the agent, as it moves through the environment.  \n",
    "\n",
    "Of course, as part of the project, you'll have to change the code so that the agent is able to use its experience to gradually choose better actions when interacting with the environment!"
   ]
  },
  {
   "cell_type": "code",
   "execution_count": 5,
   "metadata": {},
   "outputs": [
    {
     "output_type": "stream",
     "name": "stdout",
     "text": [
      "Score: 0.0\n"
     ]
    }
   ],
   "source": [
    "env_info = env.reset(train_mode=False)[brain_name] # reset the environment\n",
    "state = env_info.vector_observations[0]            # get the current state\n",
    "score = 0                                          # initialize the score\n",
    "while True:\n",
    "    action = np.random.randint(action_size)        # select an action\n",
    "    env_info = env.step(action)[brain_name]        # send the action to the environment\n",
    "    next_state = env_info.vector_observations[0]   # get the next state\n",
    "    reward = env_info.rewards[0]                   # get the reward\n",
    "    done = env_info.local_done[0]                  # see if episode has finished\n",
    "    score += reward                                # update the score\n",
    "    state = next_state                             # roll over the state to next time step\n",
    "    if done:                                       # exit loop if episode finished\n",
    "        break\n",
    "    \n",
    "print(\"Score: {}\".format(score))"
   ]
  },
  {
   "cell_type": "markdown",
   "metadata": {},
   "source": [
    "When finished, you can close the environment."
   ]
  },
  {
   "cell_type": "code",
   "execution_count": 6,
   "metadata": {},
   "outputs": [],
   "source": [
    "env.close()"
   ]
  },
  {
   "cell_type": "markdown",
   "metadata": {},
   "source": [
    "### 4. It's Your Turn!\n",
    "\n",
    "Now it's your turn to train your own agent to solve the environment!  When training the environment, set `train_mode=True`, so that the line for resetting the environment looks like the following:\n",
    "```python\n",
    "env_info = env.reset(train_mode=True)[brain_name]\n",
    "```"
   ]
  },
  {
   "cell_type": "code",
   "execution_count": 1,
   "metadata": {},
   "outputs": [],
   "source": [
    "import numpy as np\n",
    "import matplotlib.pyplot as plt\n",
    "from unityagents import UnityEnvironment\n",
    "from dqn_agent import DQNAgent"
   ]
  },
  {
   "cell_type": "code",
   "execution_count": 2,
   "metadata": {},
   "outputs": [
    {
     "output_type": "stream",
     "name": "stderr",
     "text": [
      "INFO:unityagents:\n'Academy' started successfully!\nUnity Academy name: Academy\n        Number of Brains: 1\n        Number of External Brains : 1\n        Lesson number : 0\n        Reset Parameters :\n\t\t\nUnity brain name: BananaBrain\n        Number of Visual Observations (per agent): 0\n        Vector Observation space type: continuous\n        Vector Observation space size (per agent): 37\n        Number of stacked Vector Observation: 1\n        Vector Action space type: discrete\n        Vector Action space size (per agent): 4\n        Vector Action descriptions: , , , \n"
     ]
    }
   ],
   "source": [
    "env = UnityEnvironment(file_name=\"Banana_Linux/Banana.x86_64\")"
   ]
  },
  {
   "cell_type": "code",
   "execution_count": 3,
   "metadata": {},
   "outputs": [],
   "source": [
    "# get the default brain\n",
    "brain_name = env.brain_names[0]\n",
    "brain = env.brains[brain_name]"
   ]
  },
  {
   "cell_type": "code",
   "execution_count": 4,
   "metadata": {},
   "outputs": [
    {
     "output_type": "stream",
     "name": "stdout",
     "text": [
      "Number of agents: 1\nNumber of actions: 4\nStates look like: [1.         0.         0.         0.         0.84408134 0.\n 0.         1.         0.         0.0748472  0.         1.\n 0.         0.         0.25755    1.         0.         0.\n 0.         0.74177343 0.         1.         0.         0.\n 0.25854847 0.         0.         1.         0.         0.09355672\n 0.         1.         0.         0.         0.31969345 0.\n 0.        ]\nStates have length: 37\n"
     ]
    }
   ],
   "source": [
    "# reset the environment\n",
    "env_info = env.reset(train_mode=True)[brain_name]\n",
    "\n",
    "# number of agents in the environment\n",
    "print('Number of agents:', len(env_info.agents))\n",
    "\n",
    "# number of actions\n",
    "action_size = brain.vector_action_space_size\n",
    "print('Number of actions:', action_size)\n",
    "\n",
    "# examine the state space \n",
    "state = env_info.vector_observations[0]\n",
    "print('States look like:', state)\n",
    "state_size = len(state)\n",
    "print('States have length:', state_size)"
   ]
  },
  {
   "cell_type": "code",
   "execution_count": 5,
   "metadata": {
    "tags": [
     "outputPrepend"
    ]
   },
   "outputs": [
    {
     "output_type": "stream",
     "name": "stdout",
     "text": [
      "56 epsilon 0.68\n",
      "episode:  108 score:  1.0  average score 0.4 best score 0.56 epsilon 0.67\n",
      "episode:  109 score:  3.0  average score 0.4 best score 0.56 epsilon 0.67\n",
      "episode:  110 score:  1.0  average score 0.5 best score 0.56 epsilon 0.67\n",
      "episode:  111 score:  1.0  average score 0.5 best score 0.56 epsilon 0.66\n",
      "episode:  112 score:  -1.0  average score 0.4 best score 0.56 epsilon 0.66\n",
      "episode:  113 score:  3.0  average score 0.5 best score 0.56 epsilon 0.66\n",
      "episode:  114 score:  0.0  average score 0.5 best score 0.56 epsilon 0.66\n",
      "episode:  115 score:  1.0  average score 0.5 best score 0.56 epsilon 0.65\n",
      "episode:  116 score:  7.0  average score 0.5 best score 0.56 epsilon 0.65\n",
      "episode:  117 score:  2.0  average score 0.6 best score 0.58 epsilon 0.65\n",
      "episode:  118 score:  3.0  average score 0.6 best score 0.61 epsilon 0.64\n",
      "episode:  119 score:  1.0  average score 0.6 best score 0.62 epsilon 0.64\n",
      "episode:  120 score:  2.0  average score 0.6 best score 0.63 epsilon 0.64\n",
      "episode:  121 score:  3.0  average score 0.7 best score 0.65 epsilon 0.63\n",
      "episode:  122 score:  1.0  average score 0.7 best score 0.65 epsilon 0.63\n",
      "episode:  123 score:  4.0  average score 0.7 best score 0.70 epsilon 0.63\n",
      "episode:  124 score:  0.0  average score 0.7 best score 0.70 epsilon 0.63\n",
      "episode:  125 score:  1.0  average score 0.7 best score 0.70 epsilon 0.62\n",
      "episode:  126 score:  3.0  average score 0.7 best score 0.72 epsilon 0.62\n",
      "episode:  127 score:  3.0  average score 0.8 best score 0.77 epsilon 0.62\n",
      "episode:  128 score:  4.0  average score 0.8 best score 0.81 epsilon 0.61\n",
      "episode:  129 score:  1.0  average score 0.8 best score 0.82 epsilon 0.61\n",
      "episode:  130 score:  4.0  average score 0.9 best score 0.86 epsilon 0.61\n",
      "episode:  131 score:  5.0  average score 0.9 best score 0.90 epsilon 0.60\n",
      "episode:  132 score:  4.0  average score 0.9 best score 0.94 epsilon 0.60\n",
      "episode:  133 score:  4.0  average score 1.0 best score 0.97 epsilon 0.60\n",
      "episode:  134 score:  5.0  average score 1.0 best score 1.02 epsilon 0.60\n",
      "episode:  135 score:  1.0  average score 1.0 best score 1.04 epsilon 0.59\n",
      "episode:  136 score:  5.0  average score 1.1 best score 1.09 epsilon 0.59\n",
      "episode:  137 score:  0.0  average score 1.1 best score 1.09 epsilon 0.59\n",
      "episode:  138 score:  3.0  average score 1.1 best score 1.09 epsilon 0.58\n",
      "episode:  139 score:  3.0  average score 1.1 best score 1.10 epsilon 0.58\n",
      "episode:  140 score:  2.0  average score 1.1 best score 1.11 epsilon 0.58\n",
      "episode:  141 score:  4.0  average score 1.2 best score 1.16 epsilon 0.57\n",
      "episode:  142 score:  3.0  average score 1.2 best score 1.19 epsilon 0.57\n",
      "episode:  143 score:  2.0  average score 1.2 best score 1.22 epsilon 0.57\n",
      "episode:  144 score:  5.0  average score 1.3 best score 1.26 epsilon 0.57\n",
      "episode:  145 score:  1.0  average score 1.3 best score 1.26 epsilon 0.56\n",
      "episode:  146 score:  4.0  average score 1.3 best score 1.32 epsilon 0.56\n",
      "episode:  147 score:  7.0  average score 1.4 best score 1.38 epsilon 0.56\n",
      "episode:  148 score:  1.0  average score 1.4 best score 1.39 epsilon 0.55\n",
      "episode:  149 score:  6.0  average score 1.4 best score 1.45 epsilon 0.55\n",
      "episode:  150 score:  2.0  average score 1.5 best score 1.47 epsilon 0.55\n",
      "episode:  151 score:  4.0  average score 1.5 best score 1.50 epsilon 0.54\n",
      "episode:  152 score:  2.0  average score 1.5 best score 1.51 epsilon 0.54\n",
      "episode:  153 score:  1.0  average score 1.5 best score 1.51 epsilon 0.54\n",
      "episode:  154 score:  7.0  average score 1.6 best score 1.60 epsilon 0.54\n",
      "episode:  155 score:  6.0  average score 1.7 best score 1.66 epsilon 0.53\n",
      "episode:  156 score:  4.0  average score 1.7 best score 1.69 epsilon 0.53\n",
      "episode:  157 score:  5.0  average score 1.7 best score 1.72 epsilon 0.53\n",
      "episode:  158 score:  7.0  average score 1.8 best score 1.79 epsilon 0.52\n",
      "episode:  159 score:  3.0  average score 1.8 best score 1.82 epsilon 0.52\n",
      "episode:  160 score:  3.0  average score 1.8 best score 1.83 epsilon 0.52\n",
      "episode:  161 score:  6.0  average score 1.9 best score 1.89 epsilon 0.51\n",
      "episode:  162 score:  5.0  average score 1.9 best score 1.94 epsilon 0.51\n",
      "episode:  163 score:  1.0  average score 1.9 best score 1.95 epsilon 0.51\n",
      "episode:  164 score:  0.0  average score 2.0 best score 1.96 epsilon 0.51\n",
      "episode:  165 score:  4.0  average score 2.0 best score 2.02 epsilon 0.50\n",
      "episode:  166 score:  1.0  average score 2.0 best score 2.02 epsilon 0.50\n",
      "episode:  167 score:  2.0  average score 2.0 best score 2.03 epsilon 0.50\n",
      "episode:  168 score:  6.0  average score 2.1 best score 2.09 epsilon 0.49\n",
      "episode:  169 score:  5.0  average score 2.1 best score 2.11 epsilon 0.49\n",
      "episode:  170 score:  -1.0  average score 2.1 best score 2.11 epsilon 0.49\n",
      "episode:  171 score:  2.0  average score 2.1 best score 2.11 epsilon 0.48\n",
      "episode:  172 score:  7.0  average score 2.2 best score 2.18 epsilon 0.48\n",
      "episode:  173 score:  0.0  average score 2.2 best score 2.18 epsilon 0.48\n",
      "episode:  174 score:  1.0  average score 2.2 best score 2.18 epsilon 0.48\n",
      "episode:  175 score:  3.0  average score 2.2 best score 2.19 epsilon 0.47\n",
      "episode:  176 score:  2.0  average score 2.2 best score 2.20 epsilon 0.47\n",
      "episode:  177 score:  4.0  average score 2.3 best score 2.26 epsilon 0.47\n",
      "episode:  178 score:  -2.0  average score 2.2 best score 2.26 epsilon 0.46\n",
      "episode:  179 score:  8.0  average score 2.3 best score 2.31 epsilon 0.46\n",
      "episode:  180 score:  0.0  average score 2.3 best score 2.31 epsilon 0.46\n",
      "episode:  181 score:  5.0  average score 2.4 best score 2.36 epsilon 0.45\n",
      "episode:  182 score:  6.0  average score 2.4 best score 2.40 epsilon 0.45\n",
      "episode:  183 score:  4.0  average score 2.4 best score 2.43 epsilon 0.45\n",
      "episode:  184 score:  5.0  average score 2.5 best score 2.48 epsilon 0.45\n",
      "episode:  185 score:  3.0  average score 2.5 best score 2.53 epsilon 0.44\n",
      "episode:  186 score:  3.0  average score 2.5 best score 2.54 epsilon 0.44\n",
      "episode:  187 score:  5.0  average score 2.6 best score 2.57 epsilon 0.44\n",
      "episode:  188 score:  4.0  average score 2.6 best score 2.61 epsilon 0.43\n",
      "episode:  189 score:  4.0  average score 2.6 best score 2.65 epsilon 0.43\n",
      "episode:  190 score:  7.0  average score 2.7 best score 2.72 epsilon 0.43\n",
      "episode:  191 score:  9.0  average score 2.8 best score 2.79 epsilon 0.42\n",
      "episode:  192 score:  0.0  average score 2.8 best score 2.79 epsilon 0.42\n",
      "episode:  193 score:  2.0  average score 2.8 best score 2.82 epsilon 0.42\n",
      "episode:  194 score:  6.0  average score 2.9 best score 2.88 epsilon 0.42\n",
      "episode:  195 score:  0.0  average score 2.8 best score 2.88 epsilon 0.41\n",
      "episode:  196 score:  5.0  average score 2.9 best score 2.88 epsilon 0.41\n",
      "episode:  197 score:  6.0  average score 2.9 best score 2.92 epsilon 0.41\n",
      "episode:  198 score:  7.0  average score 3.0 best score 2.99 epsilon 0.40\n",
      "episode:  199 score:  3.0  average score 3.0 best score 3.03 epsilon 0.40\n",
      "episode:  200 score:  5.0  average score 3.1 best score 3.08 epsilon 0.40\n",
      "episode:  201 score:  4.0  average score 3.1 best score 3.13 epsilon 0.39\n",
      "episode:  202 score:  2.0  average score 3.2 best score 3.16 epsilon 0.39\n",
      "episode:  203 score:  8.0  average score 3.2 best score 3.22 epsilon 0.39\n",
      "episode:  204 score:  8.0  average score 3.3 best score 3.31 epsilon 0.39\n",
      "episode:  205 score:  2.0  average score 3.3 best score 3.31 epsilon 0.38\n",
      "episode:  206 score:  7.0  average score 3.3 best score 3.33 epsilon 0.38\n",
      "episode:  207 score:  4.0  average score 3.4 best score 3.35 epsilon 0.38\n",
      "episode:  208 score:  5.0  average score 3.4 best score 3.39 epsilon 0.37\n",
      "episode:  209 score:  7.0  average score 3.4 best score 3.43 epsilon 0.37\n",
      "episode:  210 score:  7.0  average score 3.5 best score 3.49 epsilon 0.37\n",
      "episode:  211 score:  6.0  average score 3.5 best score 3.54 epsilon 0.36\n",
      "episode:  212 score:  2.0  average score 3.6 best score 3.57 epsilon 0.36\n",
      "episode:  213 score:  13.0  average score 3.7 best score 3.67 epsilon 0.36\n",
      "episode:  214 score:  5.0  average score 3.7 best score 3.72 epsilon 0.36\n",
      "episode:  215 score:  6.0  average score 3.8 best score 3.77 epsilon 0.35\n",
      "episode:  216 score:  8.0  average score 3.8 best score 3.78 epsilon 0.35\n",
      "episode:  217 score:  8.0  average score 3.8 best score 3.84 epsilon 0.35\n",
      "episode:  218 score:  4.0  average score 3.9 best score 3.85 epsilon 0.34\n",
      "episode:  219 score:  11.0  average score 4.0 best score 3.95 epsilon 0.34\n",
      "episode:  220 score:  9.0  average score 4.0 best score 4.02 epsilon 0.34\n",
      "episode:  221 score:  8.0  average score 4.1 best score 4.07 epsilon 0.33\n",
      "episode:  222 score:  5.0  average score 4.1 best score 4.11 epsilon 0.33\n",
      "episode:  223 score:  7.0  average score 4.1 best score 4.14 epsilon 0.33\n",
      "episode:  224 score:  7.0  average score 4.2 best score 4.21 epsilon 0.33\n",
      "episode:  225 score:  8.0  average score 4.3 best score 4.28 epsilon 0.32\n",
      "episode:  226 score:  8.0  average score 4.3 best score 4.33 epsilon 0.32\n",
      "episode:  227 score:  6.0  average score 4.4 best score 4.36 epsilon 0.32\n",
      "episode:  228 score:  12.0  average score 4.4 best score 4.44 epsilon 0.31\n",
      "episode:  229 score:  8.0  average score 4.5 best score 4.51 epsilon 0.31\n",
      "episode:  230 score:  12.0  average score 4.6 best score 4.59 epsilon 0.31\n",
      "episode:  231 score:  12.0  average score 4.7 best score 4.66 epsilon 0.30\n",
      "episode:  232 score:  10.0  average score 4.7 best score 4.72 epsilon 0.30\n",
      "episode:  233 score:  12.0  average score 4.8 best score 4.80 epsilon 0.30\n",
      "episode:  234 score:  8.0  average score 4.8 best score 4.83 epsilon 0.30\n",
      "episode:  235 score:  9.0  average score 4.9 best score 4.91 epsilon 0.29\n",
      "episode:  236 score:  7.0  average score 4.9 best score 4.93 epsilon 0.29\n",
      "episode:  237 score:  5.0  average score 5.0 best score 4.98 epsilon 0.29\n",
      "episode:  238 score:  8.0  average score 5.0 best score 5.03 epsilon 0.28\n",
      "episode:  239 score:  8.0  average score 5.1 best score 5.08 epsilon 0.28\n",
      "episode:  240 score:  10.0  average score 5.2 best score 5.16 epsilon 0.28\n",
      "episode:  241 score:  10.0  average score 5.2 best score 5.22 epsilon 0.27\n",
      "episode:  242 score:  7.0  average score 5.3 best score 5.26 epsilon 0.27\n",
      "episode:  243 score:  9.0  average score 5.3 best score 5.33 epsilon 0.27\n",
      "episode:  244 score:  10.0  average score 5.4 best score 5.38 epsilon 0.27\n",
      "episode:  245 score:  6.0  average score 5.4 best score 5.43 epsilon 0.26\n",
      "episode:  246 score:  10.0  average score 5.5 best score 5.49 epsilon 0.26\n",
      "episode:  247 score:  10.0  average score 5.5 best score 5.52 epsilon 0.26\n",
      "episode:  248 score:  8.0  average score 5.6 best score 5.59 epsilon 0.25\n",
      "episode:  249 score:  10.0  average score 5.6 best score 5.63 epsilon 0.25\n",
      "episode:  250 score:  11.0  average score 5.7 best score 5.72 epsilon 0.25\n",
      "episode:  251 score:  13.0  average score 5.8 best score 5.81 epsilon 0.24\n",
      "episode:  252 score:  8.0  average score 5.9 best score 5.87 epsilon 0.24\n",
      "episode:  253 score:  6.0  average score 5.9 best score 5.92 epsilon 0.24\n",
      "episode:  254 score:  7.0  average score 5.9 best score 5.92 epsilon 0.24\n",
      "episode:  255 score:  8.0  average score 5.9 best score 5.94 epsilon 0.23\n",
      "episode:  256 score:  3.0  average score 5.9 best score 5.94 epsilon 0.23\n",
      "episode:  257 score:  17.0  average score 6.0 best score 6.05 epsilon 0.23\n",
      "episode:  258 score:  9.0  average score 6.1 best score 6.07 epsilon 0.22\n",
      "episode:  259 score:  15.0  average score 6.2 best score 6.19 epsilon 0.22\n",
      "episode:  260 score:  8.0  average score 6.2 best score 6.24 epsilon 0.22\n",
      "episode:  261 score:  11.0  average score 6.3 best score 6.29 epsilon 0.21\n",
      "episode:  262 score:  4.0  average score 6.3 best score 6.29 epsilon 0.21\n",
      "episode:  263 score:  14.0  average score 6.4 best score 6.41 epsilon 0.21\n",
      "episode:  264 score:  11.0  average score 6.5 best score 6.52 epsilon 0.21\n",
      "episode:  265 score:  12.0  average score 6.6 best score 6.60 epsilon 0.20\n",
      "episode:  266 score:  10.0  average score 6.7 best score 6.69 epsilon 0.20\n",
      "episode:  267 score:  10.0  average score 6.8 best score 6.77 epsilon 0.20\n",
      "episode:  268 score:  9.0  average score 6.8 best score 6.80 epsilon 0.19\n",
      "episode:  269 score:  14.0  average score 6.9 best score 6.89 epsilon 0.19\n",
      "episode:  270 score:  7.0  average score 7.0 best score 6.97 epsilon 0.19\n",
      "episode:  271 score:  8.0  average score 7.0 best score 7.03 epsilon 0.18\n",
      "episode:  272 score:  12.0  average score 7.1 best score 7.08 epsilon 0.18\n",
      "episode:  273 score:  4.0  average score 7.1 best score 7.12 epsilon 0.18\n",
      "episode:  274 score:  16.0  average score 7.3 best score 7.27 epsilon 0.18\n",
      "episode:  275 score:  16.0  average score 7.4 best score 7.40 epsilon 0.17\n",
      "episode:  276 score:  6.0  average score 7.4 best score 7.44 epsilon 0.17\n",
      "episode:  277 score:  13.0  average score 7.5 best score 7.53 epsilon 0.17\n",
      "episode:  278 score:  13.0  average score 7.7 best score 7.68 epsilon 0.16\n",
      "episode:  279 score:  14.0  average score 7.7 best score 7.74 epsilon 0.16\n",
      "episode:  280 score:  16.0  average score 7.9 best score 7.90 epsilon 0.16\n",
      "episode:  281 score:  11.0  average score 8.0 best score 7.96 epsilon 0.15\n",
      "episode:  282 score:  16.0  average score 8.1 best score 8.06 epsilon 0.15\n",
      "episode:  283 score:  7.0  average score 8.1 best score 8.09 epsilon 0.15\n",
      "episode:  284 score:  11.0  average score 8.2 best score 8.15 epsilon 0.15\n",
      "episode:  285 score:  11.0  average score 8.2 best score 8.23 epsilon 0.14\n",
      "episode:  286 score:  12.0  average score 8.3 best score 8.32 epsilon 0.14\n",
      "episode:  287 score:  14.0  average score 8.4 best score 8.41 epsilon 0.14\n",
      "episode:  288 score:  12.0  average score 8.5 best score 8.49 epsilon 0.13\n",
      "episode:  289 score:  15.0  average score 8.6 best score 8.60 epsilon 0.13\n",
      "episode:  290 score:  9.0  average score 8.6 best score 8.62 epsilon 0.13\n",
      "episode:  291 score:  13.0  average score 8.7 best score 8.66 epsilon 0.12\n",
      "episode:  292 score:  6.0  average score 8.7 best score 8.72 epsilon 0.12\n",
      "episode:  293 score:  11.0  average score 8.8 best score 8.81 epsilon 0.12\n",
      "episode:  294 score:  13.0  average score 8.9 best score 8.88 epsilon 0.12\n",
      "episode:  295 score:  13.0  average score 9.0 best score 9.01 epsilon 0.11\n",
      "episode:  296 score:  11.0  average score 9.1 best score 9.07 epsilon 0.11\n",
      "episode:  297 score:  16.0  average score 9.2 best score 9.17 epsilon 0.11\n",
      "episode:  298 score:  8.0  average score 9.2 best score 9.18 epsilon 0.10\n",
      "episode:  299 score:  15.0  average score 9.3 best score 9.30 epsilon 0.10\n",
      "episode:  300 score:  16.0  average score 9.4 best score 9.41 epsilon 0.10\n",
      "episode:  301 score:  18.0  average score 9.6 best score 9.55 epsilon 0.10\n",
      "episode:  302 score:  9.0  average score 9.6 best score 9.62 epsilon 0.10\n",
      "episode:  303 score:  16.0  average score 9.7 best score 9.70 epsilon 0.10\n",
      "episode:  304 score:  10.0  average score 9.7 best score 9.72 epsilon 0.10\n",
      "episode:  305 score:  14.0  average score 9.8 best score 9.84 epsilon 0.10\n",
      "episode:  306 score:  12.0  average score 9.9 best score 9.89 epsilon 0.10\n",
      "episode:  307 score:  13.0  average score 10.0 best score 9.98 epsilon 0.10\n",
      "episode:  308 score:  10.0  average score 10.0 best score 10.03 epsilon 0.10\n",
      "episode:  309 score:  9.0  average score 10.1 best score 10.05 epsilon 0.10\n",
      "episode:  310 score:  16.0  average score 10.1 best score 10.14 epsilon 0.10\n",
      "episode:  311 score:  10.0  average score 10.2 best score 10.18 epsilon 0.10\n",
      "episode:  312 score:  16.0  average score 10.3 best score 10.32 epsilon 0.10\n",
      "episode:  313 score:  7.0  average score 10.3 best score 10.32 epsilon 0.10\n",
      "episode:  314 score:  8.0  average score 10.3 best score 10.32 epsilon 0.10\n",
      "episode:  315 score:  18.0  average score 10.4 best score 10.41 epsilon 0.10\n",
      "episode:  316 score:  17.0  average score 10.5 best score 10.50 epsilon 0.10\n",
      "episode:  317 score:  15.0  average score 10.6 best score 10.57 epsilon 0.10\n",
      "episode:  318 score:  22.0  average score 10.8 best score 10.75 epsilon 0.10\n",
      "episode:  319 score:  9.0  average score 10.7 best score 10.75 epsilon 0.10\n",
      "episode:  320 score:  16.0  average score 10.8 best score 10.80 epsilon 0.10\n",
      "episode:  321 score:  14.0  average score 10.9 best score 10.86 epsilon 0.10\n",
      "episode:  322 score:  13.0  average score 10.9 best score 10.94 epsilon 0.10\n",
      "episode:  323 score:  18.0  average score 11.1 best score 11.05 epsilon 0.10\n",
      "episode:  324 score:  18.0  average score 11.2 best score 11.16 epsilon 0.10\n",
      "episode:  325 score:  7.0  average score 11.2 best score 11.16 epsilon 0.10\n",
      "episode:  326 score:  13.0  average score 11.2 best score 11.20 epsilon 0.10\n",
      "episode:  327 score:  10.0  average score 11.2 best score 11.24 epsilon 0.10\n",
      "episode:  328 score:  8.0  average score 11.2 best score 11.24 epsilon 0.10\n",
      "episode:  329 score:  11.0  average score 11.2 best score 11.24 epsilon 0.10\n",
      "episode:  330 score:  15.0  average score 11.3 best score 11.26 epsilon 0.10\n",
      "episode:  331 score:  13.0  average score 11.3 best score 11.27 epsilon 0.10\n",
      "episode:  332 score:  15.0  average score 11.3 best score 11.32 epsilon 0.10\n",
      "episode:  333 score:  16.0  average score 11.4 best score 11.36 epsilon 0.10\n",
      "episode:  334 score:  14.0  average score 11.4 best score 11.42 epsilon 0.10\n",
      "episode:  335 score:  11.0  average score 11.4 best score 11.44 epsilon 0.10\n",
      "episode:  336 score:  11.0  average score 11.5 best score 11.48 epsilon 0.10\n",
      "episode:  337 score:  13.0  average score 11.6 best score 11.56 epsilon 0.10\n",
      "episode:  338 score:  16.0  average score 11.6 best score 11.64 epsilon 0.10\n",
      "episode:  339 score:  16.0  average score 11.7 best score 11.72 epsilon 0.10\n",
      "episode:  340 score:  17.0  average score 11.8 best score 11.79 epsilon 0.10\n",
      "episode:  341 score:  14.0  average score 11.8 best score 11.83 epsilon 0.10\n",
      "episode:  342 score:  9.0  average score 11.8 best score 11.85 epsilon 0.10\n",
      "episode:  343 score:  10.0  average score 11.9 best score 11.86 epsilon 0.10\n",
      "episode:  344 score:  14.0  average score 11.9 best score 11.90 epsilon 0.10\n",
      "episode:  345 score:  16.0  average score 12.0 best score 12.00 epsilon 0.10\n",
      "episode:  346 score:  11.0  average score 12.0 best score 12.01 epsilon 0.10\n",
      "episode:  347 score:  16.0  average score 12.1 best score 12.07 epsilon 0.10\n",
      "episode:  348 score:  12.0  average score 12.1 best score 12.11 epsilon 0.10\n",
      "episode:  349 score:  20.0  average score 12.2 best score 12.21 epsilon 0.10\n",
      "episode:  350 score:  14.0  average score 12.2 best score 12.24 epsilon 0.10\n",
      "episode:  351 score:  11.0  average score 12.2 best score 12.24 epsilon 0.10\n",
      "episode:  352 score:  17.0  average score 12.3 best score 12.31 epsilon 0.10\n",
      "episode:  353 score:  11.0  average score 12.4 best score 12.36 epsilon 0.10\n",
      "episode:  354 score:  8.0  average score 12.4 best score 12.37 epsilon 0.10\n",
      "episode:  355 score:  16.0  average score 12.4 best score 12.45 epsilon 0.10\n",
      "episode:  356 score:  15.0  average score 12.6 best score 12.57 epsilon 0.10\n",
      "episode:  357 score:  14.0  average score 12.5 best score 12.57 epsilon 0.10\n",
      "episode:  358 score:  9.0  average score 12.5 best score 12.57 epsilon 0.10\n",
      "episode:  359 score:  11.0  average score 12.5 best score 12.57 epsilon 0.10\n",
      "episode:  360 score:  13.0  average score 12.6 best score 12.57 epsilon 0.10\n",
      "episode:  361 score:  9.0  average score 12.5 best score 12.57 epsilon 0.10\n",
      "episode:  362 score:  13.0  average score 12.6 best score 12.62 epsilon 0.10\n",
      "episode:  363 score:  21.0  average score 12.7 best score 12.69 epsilon 0.10\n",
      "episode:  364 score:  14.0  average score 12.7 best score 12.72 epsilon 0.10\n",
      "episode:  365 score:  9.0  average score 12.7 best score 12.72 epsilon 0.10\n",
      "episode:  366 score:  14.0  average score 12.7 best score 12.73 epsilon 0.10\n",
      "episode:  367 score:  18.0  average score 12.8 best score 12.81 epsilon 0.10\n",
      "episode:  368 score:  10.0  average score 12.8 best score 12.82 epsilon 0.10\n",
      "episode:  369 score:  11.0  average score 12.8 best score 12.82 epsilon 0.10\n",
      "episode:  370 score:  15.0  average score 12.9 best score 12.87 epsilon 0.10\n",
      "episode:  371 score:  12.0  average score 12.9 best score 12.91 epsilon 0.10\n",
      "episode:  372 score:  20.0  average score 13.0 best score 12.99 epsilon 0.10\n",
      "episode:  373 score:  13.0  average score 13.1 best score 13.08 epsilon 0.10\n",
      "Environment solved!\n",
      "saving checkpoint\n",
      "saving checkpoint\n"
     ]
    }
   ],
   "source": [
    "n_episodes = 500\n",
    "best_score = -np.inf\n",
    "scores = []\n",
    "eps_history = []\n",
    "                \n",
    "gamma = 0.99\n",
    "lr = 0.0001\n",
    "epsilon_start = 1\n",
    "epsilon_min = 0.1\n",
    "epsilon_decay = 1e-5\n",
    "buffer_size = 50000\n",
    "batch_size = 32\n",
    "update_frequency = 1000\n",
    "soft_update = True\n",
    "tau = 0.001\n",
    "checkpoint_dir='models/'\n",
    "agent = DQNAgent(gamma, lr, epsilon_start, epsilon_min, epsilon_decay, state_size, action_size,\n",
    "                buffer_size, batch_size, update_frequency, soft_update, tau, checkpoint_dir)\n",
    "\n",
    "for i in range(n_episodes):\n",
    "    score = 0\n",
    "    done = False\n",
    "    env_info = env.reset(train_mode=True)[brain_name]\n",
    "    state = env_info.vector_observations[0]\n",
    "\n",
    "    while not done:\n",
    "        action = agent.choose_action(state)\n",
    "        env_info = env.step(action)[brain_name]       \n",
    "        next_state = env_info.vector_observations[0]  \n",
    "        reward = env_info.rewards[0]  \n",
    "        done = env_info.local_done[0]\n",
    "\n",
    "        agent.step(state, action, reward, next_state, done)\n",
    "\n",
    "        state = next_state\n",
    "        score += reward\n",
    "\n",
    "    scores.append(score)\n",
    "    ave_score = np.mean(scores[-100:])\n",
    "    eps_history.append(agent.epsilon)\n",
    "    if ave_score > best_score:\n",
    "        best_score = ave_score\n",
    "    print('episode: ', i,'score: ', score, ' average score %.1f' % ave_score, \n",
    "            'best score %.2f' % best_score, 'epsilon %.2f' % agent.epsilon)\n",
    "    if ave_score >= 13.0:\n",
    "        print('Environment solved!')\n",
    "        agent.save_models()\n",
    "        break"
   ]
  },
  {
   "cell_type": "code",
   "execution_count": 6,
   "metadata": {},
   "outputs": [
    {
     "output_type": "display_data",
     "data": {
      "text/plain": "<Figure size 432x288 with 1 Axes>",
      "image/svg+xml": "<?xml version=\"1.0\" encoding=\"utf-8\" standalone=\"no\"?>\n<!DOCTYPE svg PUBLIC \"-//W3C//DTD SVG 1.1//EN\"\n  \"http://www.w3.org/Graphics/SVG/1.1/DTD/svg11.dtd\">\n<!-- Created with matplotlib (https://matplotlib.org/) -->\n<svg height=\"262.19625pt\" version=\"1.1\" viewBox=\"0 0 382.603125 262.19625\" width=\"382.603125pt\" xmlns=\"http://www.w3.org/2000/svg\" xmlns:xlink=\"http://www.w3.org/1999/xlink\">\n <metadata>\n  <rdf:RDF xmlns:cc=\"http://creativecommons.org/ns#\" xmlns:dc=\"http://purl.org/dc/elements/1.1/\" xmlns:rdf=\"http://www.w3.org/1999/02/22-rdf-syntax-ns#\">\n   <cc:Work>\n    <dc:type rdf:resource=\"http://purl.org/dc/dcmitype/StillImage\"/>\n    <dc:date>2021-01-17T19:15:31.191757</dc:date>\n    <dc:format>image/svg+xml</dc:format>\n    <dc:creator>\n     <cc:Agent>\n      <dc:title>Matplotlib v3.3.3, https://matplotlib.org/</dc:title>\n     </cc:Agent>\n    </dc:creator>\n   </cc:Work>\n  </rdf:RDF>\n </metadata>\n <defs>\n  <style type=\"text/css\">*{stroke-linecap:butt;stroke-linejoin:round;}</style>\n </defs>\n <g id=\"figure_1\">\n  <g id=\"patch_1\">\n   <path d=\"M 0 262.19625 \nL 382.603125 262.19625 \nL 382.603125 0 \nL 0 0 \nz\n\" style=\"fill:none;\"/>\n  </g>\n  <g id=\"axes_1\">\n   <g id=\"patch_2\">\n    <path d=\"M 40.603125 224.64 \nL 375.403125 224.64 \nL 375.403125 7.2 \nL 40.603125 7.2 \nz\n\" style=\"fill:#ffffff;\"/>\n   </g>\n   <g id=\"matplotlib.axis_1\">\n    <g id=\"xtick_1\">\n     <g id=\"line2d_1\">\n      <defs>\n       <path d=\"M 0 0 \nL 0 3.5 \n\" id=\"m0c6c527dd2\" style=\"stroke:#000000;stroke-width:0.8;\"/>\n      </defs>\n      <g>\n       <use style=\"stroke:#000000;stroke-width:0.8;\" x=\"55.821307\" xlink:href=\"#m0c6c527dd2\" y=\"224.64\"/>\n      </g>\n     </g>\n     <g id=\"text_1\">\n      <!-- 0 -->\n      <g transform=\"translate(52.640057 239.238437)scale(0.1 -0.1)\">\n       <defs>\n        <path d=\"M 31.78125 66.40625 \nQ 24.171875 66.40625 20.328125 58.90625 \nQ 16.5 51.421875 16.5 36.375 \nQ 16.5 21.390625 20.328125 13.890625 \nQ 24.171875 6.390625 31.78125 6.390625 \nQ 39.453125 6.390625 43.28125 13.890625 \nQ 47.125 21.390625 47.125 36.375 \nQ 47.125 51.421875 43.28125 58.90625 \nQ 39.453125 66.40625 31.78125 66.40625 \nz\nM 31.78125 74.21875 \nQ 44.046875 74.21875 50.515625 64.515625 \nQ 56.984375 54.828125 56.984375 36.375 \nQ 56.984375 17.96875 50.515625 8.265625 \nQ 44.046875 -1.421875 31.78125 -1.421875 \nQ 19.53125 -1.421875 13.0625 8.265625 \nQ 6.59375 17.96875 6.59375 36.375 \nQ 6.59375 54.828125 13.0625 64.515625 \nQ 19.53125 74.21875 31.78125 74.21875 \nz\n\" id=\"DejaVuSans-48\"/>\n       </defs>\n       <use xlink:href=\"#DejaVuSans-48\"/>\n      </g>\n     </g>\n    </g>\n    <g id=\"xtick_2\">\n     <g id=\"line2d_2\">\n      <g>\n       <use style=\"stroke:#000000;stroke-width:0.8;\" x=\"96.620722\" xlink:href=\"#m0c6c527dd2\" y=\"224.64\"/>\n      </g>\n     </g>\n     <g id=\"text_2\">\n      <!-- 50 -->\n      <g transform=\"translate(90.258222 239.238437)scale(0.1 -0.1)\">\n       <defs>\n        <path d=\"M 10.796875 72.90625 \nL 49.515625 72.90625 \nL 49.515625 64.59375 \nL 19.828125 64.59375 \nL 19.828125 46.734375 \nQ 21.96875 47.46875 24.109375 47.828125 \nQ 26.265625 48.1875 28.421875 48.1875 \nQ 40.625 48.1875 47.75 41.5 \nQ 54.890625 34.8125 54.890625 23.390625 \nQ 54.890625 11.625 47.5625 5.09375 \nQ 40.234375 -1.421875 26.90625 -1.421875 \nQ 22.3125 -1.421875 17.546875 -0.640625 \nQ 12.796875 0.140625 7.71875 1.703125 \nL 7.71875 11.625 \nQ 12.109375 9.234375 16.796875 8.0625 \nQ 21.484375 6.890625 26.703125 6.890625 \nQ 35.15625 6.890625 40.078125 11.328125 \nQ 45.015625 15.765625 45.015625 23.390625 \nQ 45.015625 31 40.078125 35.4375 \nQ 35.15625 39.890625 26.703125 39.890625 \nQ 22.75 39.890625 18.8125 39.015625 \nQ 14.890625 38.140625 10.796875 36.28125 \nz\n\" id=\"DejaVuSans-53\"/>\n       </defs>\n       <use xlink:href=\"#DejaVuSans-53\"/>\n       <use x=\"63.623047\" xlink:href=\"#DejaVuSans-48\"/>\n      </g>\n     </g>\n    </g>\n    <g id=\"xtick_3\">\n     <g id=\"line2d_3\">\n      <g>\n       <use style=\"stroke:#000000;stroke-width:0.8;\" x=\"137.420137\" xlink:href=\"#m0c6c527dd2\" y=\"224.64\"/>\n      </g>\n     </g>\n     <g id=\"text_3\">\n      <!-- 100 -->\n      <g transform=\"translate(127.876387 239.238437)scale(0.1 -0.1)\">\n       <defs>\n        <path d=\"M 12.40625 8.296875 \nL 28.515625 8.296875 \nL 28.515625 63.921875 \nL 10.984375 60.40625 \nL 10.984375 69.390625 \nL 28.421875 72.90625 \nL 38.28125 72.90625 \nL 38.28125 8.296875 \nL 54.390625 8.296875 \nL 54.390625 0 \nL 12.40625 0 \nz\n\" id=\"DejaVuSans-49\"/>\n       </defs>\n       <use xlink:href=\"#DejaVuSans-49\"/>\n       <use x=\"63.623047\" xlink:href=\"#DejaVuSans-48\"/>\n       <use x=\"127.246094\" xlink:href=\"#DejaVuSans-48\"/>\n      </g>\n     </g>\n    </g>\n    <g id=\"xtick_4\">\n     <g id=\"line2d_4\">\n      <g>\n       <use style=\"stroke:#000000;stroke-width:0.8;\" x=\"178.219552\" xlink:href=\"#m0c6c527dd2\" y=\"224.64\"/>\n      </g>\n     </g>\n     <g id=\"text_4\">\n      <!-- 150 -->\n      <g transform=\"translate(168.675802 239.238437)scale(0.1 -0.1)\">\n       <use xlink:href=\"#DejaVuSans-49\"/>\n       <use x=\"63.623047\" xlink:href=\"#DejaVuSans-53\"/>\n       <use x=\"127.246094\" xlink:href=\"#DejaVuSans-48\"/>\n      </g>\n     </g>\n    </g>\n    <g id=\"xtick_5\">\n     <g id=\"line2d_5\">\n      <g>\n       <use style=\"stroke:#000000;stroke-width:0.8;\" x=\"219.018967\" xlink:href=\"#m0c6c527dd2\" y=\"224.64\"/>\n      </g>\n     </g>\n     <g id=\"text_5\">\n      <!-- 200 -->\n      <g transform=\"translate(209.475217 239.238437)scale(0.1 -0.1)\">\n       <defs>\n        <path d=\"M 19.1875 8.296875 \nL 53.609375 8.296875 \nL 53.609375 0 \nL 7.328125 0 \nL 7.328125 8.296875 \nQ 12.9375 14.109375 22.625 23.890625 \nQ 32.328125 33.6875 34.8125 36.53125 \nQ 39.546875 41.84375 41.421875 45.53125 \nQ 43.3125 49.21875 43.3125 52.78125 \nQ 43.3125 58.59375 39.234375 62.25 \nQ 35.15625 65.921875 28.609375 65.921875 \nQ 23.96875 65.921875 18.8125 64.3125 \nQ 13.671875 62.703125 7.8125 59.421875 \nL 7.8125 69.390625 \nQ 13.765625 71.78125 18.9375 73 \nQ 24.125 74.21875 28.421875 74.21875 \nQ 39.75 74.21875 46.484375 68.546875 \nQ 53.21875 62.890625 53.21875 53.421875 \nQ 53.21875 48.921875 51.53125 44.890625 \nQ 49.859375 40.875 45.40625 35.40625 \nQ 44.1875 33.984375 37.640625 27.21875 \nQ 31.109375 20.453125 19.1875 8.296875 \nz\n\" id=\"DejaVuSans-50\"/>\n       </defs>\n       <use xlink:href=\"#DejaVuSans-50\"/>\n       <use x=\"63.623047\" xlink:href=\"#DejaVuSans-48\"/>\n       <use x=\"127.246094\" xlink:href=\"#DejaVuSans-48\"/>\n      </g>\n     </g>\n    </g>\n    <g id=\"xtick_6\">\n     <g id=\"line2d_6\">\n      <g>\n       <use style=\"stroke:#000000;stroke-width:0.8;\" x=\"259.818382\" xlink:href=\"#m0c6c527dd2\" y=\"224.64\"/>\n      </g>\n     </g>\n     <g id=\"text_6\">\n      <!-- 250 -->\n      <g transform=\"translate(250.274632 239.238437)scale(0.1 -0.1)\">\n       <use xlink:href=\"#DejaVuSans-50\"/>\n       <use x=\"63.623047\" xlink:href=\"#DejaVuSans-53\"/>\n       <use x=\"127.246094\" xlink:href=\"#DejaVuSans-48\"/>\n      </g>\n     </g>\n    </g>\n    <g id=\"xtick_7\">\n     <g id=\"line2d_7\">\n      <g>\n       <use style=\"stroke:#000000;stroke-width:0.8;\" x=\"300.617797\" xlink:href=\"#m0c6c527dd2\" y=\"224.64\"/>\n      </g>\n     </g>\n     <g id=\"text_7\">\n      <!-- 300 -->\n      <g transform=\"translate(291.074047 239.238437)scale(0.1 -0.1)\">\n       <defs>\n        <path d=\"M 40.578125 39.3125 \nQ 47.65625 37.796875 51.625 33 \nQ 55.609375 28.21875 55.609375 21.1875 \nQ 55.609375 10.40625 48.1875 4.484375 \nQ 40.765625 -1.421875 27.09375 -1.421875 \nQ 22.515625 -1.421875 17.65625 -0.515625 \nQ 12.796875 0.390625 7.625 2.203125 \nL 7.625 11.71875 \nQ 11.71875 9.328125 16.59375 8.109375 \nQ 21.484375 6.890625 26.8125 6.890625 \nQ 36.078125 6.890625 40.9375 10.546875 \nQ 45.796875 14.203125 45.796875 21.1875 \nQ 45.796875 27.640625 41.28125 31.265625 \nQ 36.765625 34.90625 28.71875 34.90625 \nL 20.21875 34.90625 \nL 20.21875 43.015625 \nL 29.109375 43.015625 \nQ 36.375 43.015625 40.234375 45.921875 \nQ 44.09375 48.828125 44.09375 54.296875 \nQ 44.09375 59.90625 40.109375 62.90625 \nQ 36.140625 65.921875 28.71875 65.921875 \nQ 24.65625 65.921875 20.015625 65.03125 \nQ 15.375 64.15625 9.8125 62.3125 \nL 9.8125 71.09375 \nQ 15.4375 72.65625 20.34375 73.4375 \nQ 25.25 74.21875 29.59375 74.21875 \nQ 40.828125 74.21875 47.359375 69.109375 \nQ 53.90625 64.015625 53.90625 55.328125 \nQ 53.90625 49.265625 50.4375 45.09375 \nQ 46.96875 40.921875 40.578125 39.3125 \nz\n\" id=\"DejaVuSans-51\"/>\n       </defs>\n       <use xlink:href=\"#DejaVuSans-51\"/>\n       <use x=\"63.623047\" xlink:href=\"#DejaVuSans-48\"/>\n       <use x=\"127.246094\" xlink:href=\"#DejaVuSans-48\"/>\n      </g>\n     </g>\n    </g>\n    <g id=\"xtick_8\">\n     <g id=\"line2d_8\">\n      <g>\n       <use style=\"stroke:#000000;stroke-width:0.8;\" x=\"341.417212\" xlink:href=\"#m0c6c527dd2\" y=\"224.64\"/>\n      </g>\n     </g>\n     <g id=\"text_8\">\n      <!-- 350 -->\n      <g transform=\"translate(331.873462 239.238437)scale(0.1 -0.1)\">\n       <use xlink:href=\"#DejaVuSans-51\"/>\n       <use x=\"63.623047\" xlink:href=\"#DejaVuSans-53\"/>\n       <use x=\"127.246094\" xlink:href=\"#DejaVuSans-48\"/>\n      </g>\n     </g>\n    </g>\n    <g id=\"text_9\">\n     <!-- Episode # -->\n     <g transform=\"translate(182.586719 252.916562)scale(0.1 -0.1)\">\n      <defs>\n       <path d=\"M 9.8125 72.90625 \nL 55.90625 72.90625 \nL 55.90625 64.59375 \nL 19.671875 64.59375 \nL 19.671875 43.015625 \nL 54.390625 43.015625 \nL 54.390625 34.71875 \nL 19.671875 34.71875 \nL 19.671875 8.296875 \nL 56.78125 8.296875 \nL 56.78125 0 \nL 9.8125 0 \nz\n\" id=\"DejaVuSans-69\"/>\n       <path d=\"M 18.109375 8.203125 \nL 18.109375 -20.796875 \nL 9.078125 -20.796875 \nL 9.078125 54.6875 \nL 18.109375 54.6875 \nL 18.109375 46.390625 \nQ 20.953125 51.265625 25.265625 53.625 \nQ 29.59375 56 35.59375 56 \nQ 45.5625 56 51.78125 48.09375 \nQ 58.015625 40.1875 58.015625 27.296875 \nQ 58.015625 14.40625 51.78125 6.484375 \nQ 45.5625 -1.421875 35.59375 -1.421875 \nQ 29.59375 -1.421875 25.265625 0.953125 \nQ 20.953125 3.328125 18.109375 8.203125 \nz\nM 48.6875 27.296875 \nQ 48.6875 37.203125 44.609375 42.84375 \nQ 40.53125 48.484375 33.40625 48.484375 \nQ 26.265625 48.484375 22.1875 42.84375 \nQ 18.109375 37.203125 18.109375 27.296875 \nQ 18.109375 17.390625 22.1875 11.75 \nQ 26.265625 6.109375 33.40625 6.109375 \nQ 40.53125 6.109375 44.609375 11.75 \nQ 48.6875 17.390625 48.6875 27.296875 \nz\n\" id=\"DejaVuSans-112\"/>\n       <path d=\"M 9.421875 54.6875 \nL 18.40625 54.6875 \nL 18.40625 0 \nL 9.421875 0 \nz\nM 9.421875 75.984375 \nL 18.40625 75.984375 \nL 18.40625 64.59375 \nL 9.421875 64.59375 \nz\n\" id=\"DejaVuSans-105\"/>\n       <path d=\"M 44.28125 53.078125 \nL 44.28125 44.578125 \nQ 40.484375 46.53125 36.375 47.5 \nQ 32.28125 48.484375 27.875 48.484375 \nQ 21.1875 48.484375 17.84375 46.4375 \nQ 14.5 44.390625 14.5 40.28125 \nQ 14.5 37.15625 16.890625 35.375 \nQ 19.28125 33.59375 26.515625 31.984375 \nL 29.59375 31.296875 \nQ 39.15625 29.25 43.1875 25.515625 \nQ 47.21875 21.78125 47.21875 15.09375 \nQ 47.21875 7.46875 41.1875 3.015625 \nQ 35.15625 -1.421875 24.609375 -1.421875 \nQ 20.21875 -1.421875 15.453125 -0.5625 \nQ 10.6875 0.296875 5.421875 2 \nL 5.421875 11.28125 \nQ 10.40625 8.6875 15.234375 7.390625 \nQ 20.0625 6.109375 24.8125 6.109375 \nQ 31.15625 6.109375 34.5625 8.28125 \nQ 37.984375 10.453125 37.984375 14.40625 \nQ 37.984375 18.0625 35.515625 20.015625 \nQ 33.0625 21.96875 24.703125 23.78125 \nL 21.578125 24.515625 \nQ 13.234375 26.265625 9.515625 29.90625 \nQ 5.8125 33.546875 5.8125 39.890625 \nQ 5.8125 47.609375 11.28125 51.796875 \nQ 16.75 56 26.8125 56 \nQ 31.78125 56 36.171875 55.265625 \nQ 40.578125 54.546875 44.28125 53.078125 \nz\n\" id=\"DejaVuSans-115\"/>\n       <path d=\"M 30.609375 48.390625 \nQ 23.390625 48.390625 19.1875 42.75 \nQ 14.984375 37.109375 14.984375 27.296875 \nQ 14.984375 17.484375 19.15625 11.84375 \nQ 23.34375 6.203125 30.609375 6.203125 \nQ 37.796875 6.203125 41.984375 11.859375 \nQ 46.1875 17.53125 46.1875 27.296875 \nQ 46.1875 37.015625 41.984375 42.703125 \nQ 37.796875 48.390625 30.609375 48.390625 \nz\nM 30.609375 56 \nQ 42.328125 56 49.015625 48.375 \nQ 55.71875 40.765625 55.71875 27.296875 \nQ 55.71875 13.875 49.015625 6.21875 \nQ 42.328125 -1.421875 30.609375 -1.421875 \nQ 18.84375 -1.421875 12.171875 6.21875 \nQ 5.515625 13.875 5.515625 27.296875 \nQ 5.515625 40.765625 12.171875 48.375 \nQ 18.84375 56 30.609375 56 \nz\n\" id=\"DejaVuSans-111\"/>\n       <path d=\"M 45.40625 46.390625 \nL 45.40625 75.984375 \nL 54.390625 75.984375 \nL 54.390625 0 \nL 45.40625 0 \nL 45.40625 8.203125 \nQ 42.578125 3.328125 38.25 0.953125 \nQ 33.9375 -1.421875 27.875 -1.421875 \nQ 17.96875 -1.421875 11.734375 6.484375 \nQ 5.515625 14.40625 5.515625 27.296875 \nQ 5.515625 40.1875 11.734375 48.09375 \nQ 17.96875 56 27.875 56 \nQ 33.9375 56 38.25 53.625 \nQ 42.578125 51.265625 45.40625 46.390625 \nz\nM 14.796875 27.296875 \nQ 14.796875 17.390625 18.875 11.75 \nQ 22.953125 6.109375 30.078125 6.109375 \nQ 37.203125 6.109375 41.296875 11.75 \nQ 45.40625 17.390625 45.40625 27.296875 \nQ 45.40625 37.203125 41.296875 42.84375 \nQ 37.203125 48.484375 30.078125 48.484375 \nQ 22.953125 48.484375 18.875 42.84375 \nQ 14.796875 37.203125 14.796875 27.296875 \nz\n\" id=\"DejaVuSans-100\"/>\n       <path d=\"M 56.203125 29.59375 \nL 56.203125 25.203125 \nL 14.890625 25.203125 \nQ 15.484375 15.921875 20.484375 11.0625 \nQ 25.484375 6.203125 34.421875 6.203125 \nQ 39.59375 6.203125 44.453125 7.46875 \nQ 49.3125 8.734375 54.109375 11.28125 \nL 54.109375 2.78125 \nQ 49.265625 0.734375 44.1875 -0.34375 \nQ 39.109375 -1.421875 33.890625 -1.421875 \nQ 20.796875 -1.421875 13.15625 6.1875 \nQ 5.515625 13.8125 5.515625 26.8125 \nQ 5.515625 40.234375 12.765625 48.109375 \nQ 20.015625 56 32.328125 56 \nQ 43.359375 56 49.78125 48.890625 \nQ 56.203125 41.796875 56.203125 29.59375 \nz\nM 47.21875 32.234375 \nQ 47.125 39.59375 43.09375 43.984375 \nQ 39.0625 48.390625 32.421875 48.390625 \nQ 24.90625 48.390625 20.390625 44.140625 \nQ 15.875 39.890625 15.1875 32.171875 \nz\n\" id=\"DejaVuSans-101\"/>\n       <path id=\"DejaVuSans-32\"/>\n       <path d=\"M 51.125 44 \nL 36.921875 44 \nL 32.8125 27.6875 \nL 47.125 27.6875 \nz\nM 43.796875 71.78125 \nL 38.71875 51.515625 \nL 52.984375 51.515625 \nL 58.109375 71.78125 \nL 65.921875 71.78125 \nL 60.890625 51.515625 \nL 76.125 51.515625 \nL 76.125 44 \nL 58.984375 44 \nL 54.984375 27.6875 \nL 70.515625 27.6875 \nL 70.515625 20.21875 \nL 53.078125 20.21875 \nL 48 0 \nL 40.1875 0 \nL 45.21875 20.21875 \nL 30.90625 20.21875 \nL 25.875 0 \nL 18.015625 0 \nL 23.09375 20.21875 \nL 7.71875 20.21875 \nL 7.71875 27.6875 \nL 24.90625 27.6875 \nL 29 44 \nL 13.28125 44 \nL 13.28125 51.515625 \nL 30.90625 51.515625 \nL 35.890625 71.78125 \nz\n\" id=\"DejaVuSans-35\"/>\n      </defs>\n      <use xlink:href=\"#DejaVuSans-69\"/>\n      <use x=\"63.183594\" xlink:href=\"#DejaVuSans-112\"/>\n      <use x=\"126.660156\" xlink:href=\"#DejaVuSans-105\"/>\n      <use x=\"154.443359\" xlink:href=\"#DejaVuSans-115\"/>\n      <use x=\"206.542969\" xlink:href=\"#DejaVuSans-111\"/>\n      <use x=\"267.724609\" xlink:href=\"#DejaVuSans-100\"/>\n      <use x=\"331.201172\" xlink:href=\"#DejaVuSans-101\"/>\n      <use x=\"392.724609\" xlink:href=\"#DejaVuSans-32\"/>\n      <use x=\"424.511719\" xlink:href=\"#DejaVuSans-35\"/>\n     </g>\n    </g>\n   </g>\n   <g id=\"matplotlib.axis_2\">\n    <g id=\"ytick_1\">\n     <g id=\"line2d_9\">\n      <defs>\n       <path d=\"M 0 0 \nL -3.5 0 \n\" id=\"ma31e13b821\" style=\"stroke:#000000;stroke-width:0.8;\"/>\n      </defs>\n      <g>\n       <use style=\"stroke:#000000;stroke-width:0.8;\" x=\"40.603125\" xlink:href=\"#ma31e13b821\" y=\"191.035636\"/>\n      </g>\n     </g>\n     <g id=\"text_10\">\n      <!-- 0 -->\n      <g transform=\"translate(27.240625 194.834855)scale(0.1 -0.1)\">\n       <use xlink:href=\"#DejaVuSans-48\"/>\n      </g>\n     </g>\n    </g>\n    <g id=\"ytick_2\">\n     <g id=\"line2d_10\">\n      <g>\n       <use style=\"stroke:#000000;stroke-width:0.8;\" x=\"40.603125\" xlink:href=\"#ma31e13b821\" y=\"151.501091\"/>\n      </g>\n     </g>\n     <g id=\"text_11\">\n      <!-- 5 -->\n      <g transform=\"translate(27.240625 155.30031)scale(0.1 -0.1)\">\n       <use xlink:href=\"#DejaVuSans-53\"/>\n      </g>\n     </g>\n    </g>\n    <g id=\"ytick_3\">\n     <g id=\"line2d_11\">\n      <g>\n       <use style=\"stroke:#000000;stroke-width:0.8;\" x=\"40.603125\" xlink:href=\"#ma31e13b821\" y=\"111.966545\"/>\n      </g>\n     </g>\n     <g id=\"text_12\">\n      <!-- 10 -->\n      <g transform=\"translate(20.878125 115.765764)scale(0.1 -0.1)\">\n       <use xlink:href=\"#DejaVuSans-49\"/>\n       <use x=\"63.623047\" xlink:href=\"#DejaVuSans-48\"/>\n      </g>\n     </g>\n    </g>\n    <g id=\"ytick_4\">\n     <g id=\"line2d_12\">\n      <g>\n       <use style=\"stroke:#000000;stroke-width:0.8;\" x=\"40.603125\" xlink:href=\"#ma31e13b821\" y=\"72.432\"/>\n      </g>\n     </g>\n     <g id=\"text_13\">\n      <!-- 15 -->\n      <g transform=\"translate(20.878125 76.231219)scale(0.1 -0.1)\">\n       <use xlink:href=\"#DejaVuSans-49\"/>\n       <use x=\"63.623047\" xlink:href=\"#DejaVuSans-53\"/>\n      </g>\n     </g>\n    </g>\n    <g id=\"ytick_5\">\n     <g id=\"line2d_13\">\n      <g>\n       <use style=\"stroke:#000000;stroke-width:0.8;\" x=\"40.603125\" xlink:href=\"#ma31e13b821\" y=\"32.897455\"/>\n      </g>\n     </g>\n     <g id=\"text_14\">\n      <!-- 20 -->\n      <g transform=\"translate(20.878125 36.696673)scale(0.1 -0.1)\">\n       <use xlink:href=\"#DejaVuSans-50\"/>\n       <use x=\"63.623047\" xlink:href=\"#DejaVuSans-48\"/>\n      </g>\n     </g>\n    </g>\n    <g id=\"text_15\">\n     <!-- Score -->\n     <g transform=\"translate(14.798438 129.922344)rotate(-90)scale(0.1 -0.1)\">\n      <defs>\n       <path d=\"M 53.515625 70.515625 \nL 53.515625 60.890625 \nQ 47.90625 63.578125 42.921875 64.890625 \nQ 37.9375 66.21875 33.296875 66.21875 \nQ 25.25 66.21875 20.875 63.09375 \nQ 16.5 59.96875 16.5 54.203125 \nQ 16.5 49.359375 19.40625 46.890625 \nQ 22.3125 44.4375 30.421875 42.921875 \nL 36.375 41.703125 \nQ 47.40625 39.59375 52.65625 34.296875 \nQ 57.90625 29 57.90625 20.125 \nQ 57.90625 9.515625 50.796875 4.046875 \nQ 43.703125 -1.421875 29.984375 -1.421875 \nQ 24.8125 -1.421875 18.96875 -0.25 \nQ 13.140625 0.921875 6.890625 3.21875 \nL 6.890625 13.375 \nQ 12.890625 10.015625 18.65625 8.296875 \nQ 24.421875 6.59375 29.984375 6.59375 \nQ 38.421875 6.59375 43.015625 9.90625 \nQ 47.609375 13.234375 47.609375 19.390625 \nQ 47.609375 24.75 44.3125 27.78125 \nQ 41.015625 30.8125 33.5 32.328125 \nL 27.484375 33.5 \nQ 16.453125 35.6875 11.515625 40.375 \nQ 6.59375 45.0625 6.59375 53.421875 \nQ 6.59375 63.09375 13.40625 68.65625 \nQ 20.21875 74.21875 32.171875 74.21875 \nQ 37.3125 74.21875 42.625 73.28125 \nQ 47.953125 72.359375 53.515625 70.515625 \nz\n\" id=\"DejaVuSans-83\"/>\n       <path d=\"M 48.78125 52.59375 \nL 48.78125 44.1875 \nQ 44.96875 46.296875 41.140625 47.34375 \nQ 37.3125 48.390625 33.40625 48.390625 \nQ 24.65625 48.390625 19.8125 42.84375 \nQ 14.984375 37.3125 14.984375 27.296875 \nQ 14.984375 17.28125 19.8125 11.734375 \nQ 24.65625 6.203125 33.40625 6.203125 \nQ 37.3125 6.203125 41.140625 7.25 \nQ 44.96875 8.296875 48.78125 10.40625 \nL 48.78125 2.09375 \nQ 45.015625 0.34375 40.984375 -0.53125 \nQ 36.96875 -1.421875 32.421875 -1.421875 \nQ 20.0625 -1.421875 12.78125 6.34375 \nQ 5.515625 14.109375 5.515625 27.296875 \nQ 5.515625 40.671875 12.859375 48.328125 \nQ 20.21875 56 33.015625 56 \nQ 37.15625 56 41.109375 55.140625 \nQ 45.0625 54.296875 48.78125 52.59375 \nz\n\" id=\"DejaVuSans-99\"/>\n       <path d=\"M 41.109375 46.296875 \nQ 39.59375 47.171875 37.8125 47.578125 \nQ 36.03125 48 33.890625 48 \nQ 26.265625 48 22.1875 43.046875 \nQ 18.109375 38.09375 18.109375 28.8125 \nL 18.109375 0 \nL 9.078125 0 \nL 9.078125 54.6875 \nL 18.109375 54.6875 \nL 18.109375 46.1875 \nQ 20.953125 51.171875 25.484375 53.578125 \nQ 30.03125 56 36.53125 56 \nQ 37.453125 56 38.578125 55.875 \nQ 39.703125 55.765625 41.0625 55.515625 \nz\n\" id=\"DejaVuSans-114\"/>\n      </defs>\n      <use xlink:href=\"#DejaVuSans-83\"/>\n      <use x=\"63.476562\" xlink:href=\"#DejaVuSans-99\"/>\n      <use x=\"118.457031\" xlink:href=\"#DejaVuSans-111\"/>\n      <use x=\"179.638672\" xlink:href=\"#DejaVuSans-114\"/>\n      <use x=\"218.501953\" xlink:href=\"#DejaVuSans-101\"/>\n     </g>\n    </g>\n   </g>\n   <g id=\"line2d_14\">\n    <path clip-path=\"url(#p1ee839754e)\" d=\"M 55.821307 191.035636 \nL 57.453283 191.035636 \nL 58.269272 183.128727 \nL 59.08526 191.035636 \nL 59.901248 191.035636 \nL 60.717237 183.128727 \nL 61.533225 183.128727 \nL 62.349213 175.221818 \nL 63.165202 198.942545 \nL 63.98119 198.942545 \nL 64.797178 175.221818 \nL 65.613166 183.128727 \nL 66.429155 214.756364 \nL 67.245143 183.128727 \nL 68.87712 183.128727 \nL 69.693108 206.849455 \nL 70.509096 191.035636 \nL 71.325085 191.035636 \nL 72.141073 183.128727 \nL 73.773049 183.128727 \nL 74.589038 198.942545 \nL 75.405026 183.128727 \nL 76.221014 183.128727 \nL 77.037003 191.035636 \nL 77.852991 206.849455 \nL 78.668979 191.035636 \nL 80.300956 191.035636 \nL 81.116944 183.128727 \nL 81.932932 191.035636 \nL 82.748921 183.128727 \nL 84.380897 198.942545 \nL 86.012874 183.128727 \nL 86.828862 167.314909 \nL 87.644851 183.128727 \nL 88.460839 183.128727 \nL 89.276827 198.942545 \nL 90.092815 191.035636 \nL 90.908804 198.942545 \nL 91.724792 183.128727 \nL 92.54078 183.128727 \nL 93.356769 206.849455 \nL 94.172757 183.128727 \nL 94.988745 191.035636 \nL 96.620722 191.035636 \nL 97.43671 183.128727 \nL 98.252698 183.128727 \nL 99.068687 175.221818 \nL 99.884675 214.756364 \nL 100.700663 191.035636 \nL 102.33264 175.221818 \nL 103.148628 191.035636 \nL 103.964617 191.035636 \nL 104.780605 175.221818 \nL 105.596593 191.035636 \nL 107.22857 191.035636 \nL 108.860546 206.849455 \nL 109.676535 175.221818 \nL 110.492523 191.035636 \nL 111.308511 191.035636 \nL 112.1245 167.314909 \nL 112.940488 183.128727 \nL 113.756476 191.035636 \nL 114.572465 191.035636 \nL 115.388453 183.128727 \nL 117.836418 183.128727 \nL 118.652406 206.849455 \nL 119.468394 183.128727 \nL 120.284383 191.035636 \nL 121.916359 191.035636 \nL 122.732348 175.221818 \nL 124.364324 191.035636 \nL 125.180312 206.849455 \nL 125.996301 175.221818 \nL 126.812289 175.221818 \nL 127.628277 191.035636 \nL 129.260254 191.035636 \nL 130.076242 175.221818 \nL 130.892231 183.128727 \nL 131.708219 206.849455 \nL 132.524207 191.035636 \nL 133.340195 151.501091 \nL 134.156184 183.128727 \nL 134.972172 183.128727 \nL 136.604149 198.942545 \nL 137.420137 191.035636 \nL 138.236125 198.942545 \nL 139.052114 198.942545 \nL 139.868102 175.221818 \nL 140.68409 198.942545 \nL 142.316067 151.501091 \nL 143.132055 175.221818 \nL 143.948043 183.128727 \nL 144.764032 167.314909 \nL 145.58002 183.128727 \nL 146.396008 183.128727 \nL 147.211997 198.942545 \nL 148.027985 167.314909 \nL 148.843973 191.035636 \nL 149.659961 183.128727 \nL 150.47595 135.687273 \nL 151.291938 175.221818 \nL 152.107926 167.314909 \nL 152.923915 183.128727 \nL 154.555891 167.314909 \nL 155.37188 183.128727 \nL 156.187868 159.408 \nL 157.003856 191.035636 \nL 157.819844 183.128727 \nL 158.635833 167.314909 \nL 159.451821 167.314909 \nL 160.267809 159.408 \nL 161.083798 183.128727 \nL 161.899786 159.408 \nL 162.715774 151.501091 \nL 163.531763 159.408 \nL 164.347751 159.408 \nL 165.163739 151.501091 \nL 165.979727 183.128727 \nL 166.795716 151.501091 \nL 167.611704 191.035636 \nL 168.427692 167.314909 \nL 169.243681 167.314909 \nL 170.059669 175.221818 \nL 170.875657 159.408 \nL 172.507634 175.221818 \nL 173.323622 151.501091 \nL 174.13961 183.128727 \nL 175.771587 135.687273 \nL 176.587575 183.128727 \nL 177.403564 143.594182 \nL 178.219552 175.221818 \nL 179.03554 159.408 \nL 179.851529 175.221818 \nL 180.667517 183.128727 \nL 181.483505 135.687273 \nL 182.299494 143.594182 \nL 183.115482 159.408 \nL 183.93147 151.501091 \nL 184.747458 135.687273 \nL 185.563447 167.314909 \nL 186.379435 167.314909 \nL 187.195423 143.594182 \nL 188.011412 151.501091 \nL 188.8274 183.128727 \nL 189.643388 191.035636 \nL 190.459377 159.408 \nL 191.275365 183.128727 \nL 192.091353 175.221818 \nL 192.907341 143.594182 \nL 193.72333 151.501091 \nL 194.539318 198.942545 \nL 195.355306 175.221818 \nL 196.171295 135.687273 \nL 196.987283 191.035636 \nL 197.803271 183.128727 \nL 198.61926 167.314909 \nL 199.435248 175.221818 \nL 200.251236 159.408 \nL 201.067224 206.849455 \nL 201.883213 127.780364 \nL 202.699201 191.035636 \nL 203.515189 151.501091 \nL 204.331178 143.594182 \nL 205.147166 159.408 \nL 205.963154 151.501091 \nL 206.779143 167.314909 \nL 207.595131 167.314909 \nL 208.411119 151.501091 \nL 209.227107 159.408 \nL 210.043096 159.408 \nL 210.859084 135.687273 \nL 211.675072 119.873455 \nL 212.491061 191.035636 \nL 213.307049 175.221818 \nL 214.123037 143.594182 \nL 214.939026 191.035636 \nL 215.755014 151.501091 \nL 217.38699 135.687273 \nL 218.202979 167.314909 \nL 219.018967 151.501091 \nL 219.834955 159.408 \nL 220.650944 175.221818 \nL 221.466932 127.780364 \nL 222.28292 127.780364 \nL 223.098909 175.221818 \nL 223.914897 135.687273 \nL 224.730885 159.408 \nL 225.546873 151.501091 \nL 226.362862 135.687273 \nL 227.17885 135.687273 \nL 227.994838 143.594182 \nL 228.810827 175.221818 \nL 229.626815 88.245818 \nL 230.442803 151.501091 \nL 231.258792 143.594182 \nL 232.07478 127.780364 \nL 232.890768 127.780364 \nL 233.706756 159.408 \nL 234.522745 104.059636 \nL 235.338733 119.873455 \nL 236.154721 127.780364 \nL 236.97071 151.501091 \nL 237.786698 135.687273 \nL 238.602686 135.687273 \nL 239.418675 127.780364 \nL 240.234663 127.780364 \nL 241.050651 143.594182 \nL 241.86664 96.152727 \nL 242.682628 127.780364 \nL 243.498616 96.152727 \nL 244.314604 96.152727 \nL 245.130593 111.966545 \nL 245.946581 96.152727 \nL 246.762569 127.780364 \nL 247.578558 119.873455 \nL 249.210534 151.501091 \nL 250.026523 127.780364 \nL 250.842511 127.780364 \nL 251.658499 111.966545 \nL 252.474487 111.966545 \nL 253.290476 135.687273 \nL 254.106464 119.873455 \nL 254.922452 111.966545 \nL 255.738441 143.594182 \nL 256.554429 111.966545 \nL 257.370417 111.966545 \nL 258.186406 127.780364 \nL 259.002394 111.966545 \nL 259.818382 104.059636 \nL 260.63437 88.245818 \nL 261.450359 127.780364 \nL 262.266347 143.594182 \nL 263.898324 127.780364 \nL 264.714312 167.314909 \nL 265.5303 56.618182 \nL 266.346289 119.873455 \nL 267.162277 72.432 \nL 267.978265 127.780364 \nL 268.794253 104.059636 \nL 269.610242 159.408 \nL 270.42623 80.338909 \nL 271.242218 104.059636 \nL 272.058207 96.152727 \nL 272.874195 111.966545 \nL 273.690183 111.966545 \nL 274.506172 119.873455 \nL 275.32216 80.338909 \nL 276.138148 135.687273 \nL 276.954136 127.780364 \nL 277.770125 96.152727 \nL 278.586113 159.408 \nL 279.402101 64.525091 \nL 280.21809 64.525091 \nL 281.034078 143.594182 \nL 281.850066 88.245818 \nL 282.666055 88.245818 \nL 283.482043 80.338909 \nL 284.298031 64.525091 \nL 285.114019 104.059636 \nL 285.930008 64.525091 \nL 286.745996 135.687273 \nL 287.561984 104.059636 \nL 288.377973 104.059636 \nL 289.193961 96.152727 \nL 290.009949 80.338909 \nL 290.825938 96.152727 \nL 291.641926 72.432 \nL 292.457914 119.873455 \nL 293.273902 88.245818 \nL 294.089891 143.594182 \nL 294.905879 104.059636 \nL 295.721867 88.245818 \nL 296.537856 88.245818 \nL 297.353844 104.059636 \nL 298.169832 64.525091 \nL 298.985821 127.780364 \nL 299.801809 72.432 \nL 300.617797 64.525091 \nL 301.433785 48.711273 \nL 302.249774 119.873455 \nL 303.065762 64.525091 \nL 303.88175 111.966545 \nL 304.697739 80.338909 \nL 305.513727 96.152727 \nL 306.329715 88.245818 \nL 307.145704 111.966545 \nL 307.961692 119.873455 \nL 308.77768 64.525091 \nL 309.593669 111.966545 \nL 310.409657 64.525091 \nL 311.225645 135.687273 \nL 312.041633 127.780364 \nL 312.857622 48.711273 \nL 313.67361 56.618182 \nL 314.489598 72.432 \nL 315.305587 17.083636 \nL 316.121575 119.873455 \nL 316.937563 64.525091 \nL 317.753552 80.338909 \nL 318.56954 88.245818 \nL 319.385528 48.711273 \nL 320.201516 48.711273 \nL 321.017505 135.687273 \nL 321.833493 88.245818 \nL 322.649481 111.966545 \nL 323.46547 127.780364 \nL 324.281458 104.059636 \nL 325.097446 72.432 \nL 325.913435 88.245818 \nL 326.729423 72.432 \nL 327.545411 64.525091 \nL 328.361399 80.338909 \nL 329.177388 104.059636 \nL 329.993376 104.059636 \nL 330.809364 88.245818 \nL 331.625353 64.525091 \nL 332.441341 64.525091 \nL 333.257329 56.618182 \nL 334.073318 80.338909 \nL 334.889306 119.873455 \nL 335.705294 111.966545 \nL 336.521282 80.338909 \nL 337.337271 64.525091 \nL 338.153259 104.059636 \nL 338.969247 64.525091 \nL 339.785236 96.152727 \nL 340.601224 32.897455 \nL 341.417212 80.338909 \nL 342.233201 104.059636 \nL 343.049189 56.618182 \nL 343.865177 104.059636 \nL 344.681165 127.780364 \nL 345.497154 64.525091 \nL 347.12913 80.338909 \nL 347.945119 119.873455 \nL 349.577095 88.245818 \nL 350.393084 119.873455 \nL 351.209072 88.245818 \nL 352.02506 24.990545 \nL 352.841048 80.338909 \nL 353.657037 119.873455 \nL 354.473025 80.338909 \nL 355.289013 48.711273 \nL 356.105002 111.966545 \nL 356.92099 104.059636 \nL 357.736978 72.432 \nL 358.552967 96.152727 \nL 359.368955 32.897455 \nL 360.184943 88.245818 \nL 360.184943 88.245818 \n\" style=\"fill:none;stroke:#1f77b4;stroke-linecap:square;stroke-width:1.5;\"/>\n   </g>\n   <g id=\"patch_3\">\n    <path d=\"M 40.603125 224.64 \nL 40.603125 7.2 \n\" style=\"fill:none;stroke:#000000;stroke-linecap:square;stroke-linejoin:miter;stroke-width:0.8;\"/>\n   </g>\n   <g id=\"patch_4\">\n    <path d=\"M 375.403125 224.64 \nL 375.403125 7.2 \n\" style=\"fill:none;stroke:#000000;stroke-linecap:square;stroke-linejoin:miter;stroke-width:0.8;\"/>\n   </g>\n   <g id=\"patch_5\">\n    <path d=\"M 40.603125 224.64 \nL 375.403125 224.64 \n\" style=\"fill:none;stroke:#000000;stroke-linecap:square;stroke-linejoin:miter;stroke-width:0.8;\"/>\n   </g>\n   <g id=\"patch_6\">\n    <path d=\"M 40.603125 7.2 \nL 375.403125 7.2 \n\" style=\"fill:none;stroke:#000000;stroke-linecap:square;stroke-linejoin:miter;stroke-width:0.8;\"/>\n   </g>\n  </g>\n </g>\n <defs>\n  <clipPath id=\"p1ee839754e\">\n   <rect height=\"217.44\" width=\"334.8\" x=\"40.603125\" y=\"7.2\"/>\n  </clipPath>\n </defs>\n</svg>\n",
      "image/png": "[encoded data removed]"
     },
     "metadata": {
      "needs_background": "light"
     }
    }
   ],
   "source": [
    "fig = plt.figure()\n",
    "ax = fig.add_subplot(111)\n",
    "plt.plot(np.arange(len(scores)), scores)\n",
    "plt.ylabel('Score')\n",
    "plt.xlabel('Episode #')\n",
    "plt.show()"
   ]
  },
  {
   "cell_type": "code",
   "execution_count": 10,
   "metadata": {},
   "outputs": [
    {
     "output_type": "execute_result",
     "data": {
      "text/plain": [
       "<All keys matched successfully>"
      ]
     },
     "metadata": {},
     "execution_count": 10
    }
   ],
   "source": [
    "import torch\n",
    "agent.q_local.load_state_dict(torch.load('models/model_q_local.pth'))"
   ]
  },
  {
   "cell_type": "code",
   "execution_count": 13,
   "metadata": {},
   "outputs": [
    {
     "output_type": "stream",
     "name": "stdout",
     "text": [
      "Score: 17.0\n"
     ]
    }
   ],
   "source": [
    "env_info = env.reset(train_mode=False)[brain_name] # reset the environment\n",
    "state = env_info.vector_observations[0]            # get the current state\n",
    "score = 0                                          # initialize the score\n",
    "\n",
    "while True:\n",
    "    action = (int)(agent.choose_action(state))     # select an action\n",
    "    env_info = env.step(action)[brain_name]        # send the action to the environment\n",
    "    next_state = env_info.vector_observations[0]   # get the next state\n",
    "    reward = env_info.rewards[0]                   # get the reward\n",
    "    done = env_info.local_done[0]                  # see if episode has finished\n",
    "    score += reward                                # update the score\n",
    "    state = next_state                             # roll over the state to next time step\n",
    "    if done:                                       # exit loop if episode finished\n",
    "        break\n",
    "    \n",
    "print(\"Score: {}\".format(score))"
   ]
  },
  {
   "cell_type": "code",
   "execution_count": null,
   "metadata": {},
   "outputs": [],
   "source": []
  }
 ],
 "metadata": {
  "kernelspec": {
   "name": "python3",
   "display_name": "Python 3.6.12 64-bit ('drlnd': conda)",
   "metadata": {
    "interpreter": {
     "hash": "22f86722d387c69658b3811798db5c8cca73f88868498a51c04ce3540f7e8bc5"
    }
   }
  },
  "language_info": {
   "codemirror_mode": {
    "name": "ipython",
    "version": 3
   },
   "file_extension": ".py",
   "mimetype": "text/x-python",
   "name": "python",
   "nbconvert_exporter": "python",
   "pygments_lexer": "ipython3",
   "version": "3.6.12-final"
  }
 },
 "nbformat": 4,
 "nbformat_minor": 2
}