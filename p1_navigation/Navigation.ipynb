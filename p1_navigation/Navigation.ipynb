{
 "cells": [
  {
   "cell_type": "markdown",
   "metadata": {},
   "source": [
    "# Navigation\n",
    "\n",
    "---\n",
    "\n",
    "In this notebook, you will learn how to use the Unity ML-Agents environment for the first project of the [Deep Reinforcement Learning Nanodegree](https://www.udacity.com/course/deep-reinforcement-learning-nanodegree--nd893).\n",
    "\n",
    "### 1. Start the Environment\n",
    "\n",
    "We begin by importing some necessary packages.  If the code cell below returns an error, please revisit the project instructions to double-check that you have installed [Unity ML-Agents](https://github.com/Unity-Technologies/ml-agents/blob/master/docs/Installation.md) and [NumPy](http://www.numpy.org/)."
   ]
  },
  {
   "cell_type": "code",
   "execution_count": 1,
   "metadata": {},
   "outputs": [],
   "source": [
    "from unityagents import UnityEnvironment\n",
    "import numpy as np"
   ]
  },
  {
   "cell_type": "markdown",
   "metadata": {},
   "source": [
    "Next, we will start the environment!  **_Before running the code cell below_**, change the `file_name` parameter to match the location of the Unity environment that you downloaded.\n",
    "\n",
    "- **Mac**: `\"path/to/Banana.app\"`\n",
    "- **Windows** (x86): `\"path/to/Banana_Windows_x86/Banana.exe\"`\n",
    "- **Windows** (x86_64): `\"path/to/Banana_Windows_x86_64/Banana.exe\"`\n",
    "- **Linux** (x86): `\"path/to/Banana_Linux/Banana.x86\"`\n",
    "- **Linux** (x86_64): `\"path/to/Banana_Linux/Banana.x86_64\"`\n",
    "- **Linux** (x86, headless): `\"path/to/Banana_Linux_NoVis/Banana.x86\"`\n",
    "- **Linux** (x86_64, headless): `\"path/to/Banana_Linux_NoVis/Banana.x86_64\"`\n",
    "\n",
    "For instance, if you are using a Mac, then you downloaded `Banana.app`.  If this file is in the same folder as the notebook, then the line below should appear as follows:\n",
    "```\n",
    "env = UnityEnvironment(file_name=\"Banana.app\")\n",
    "```"
   ]
  },
  {
   "cell_type": "code",
   "execution_count": 2,
   "metadata": {},
   "outputs": [
    {
     "output_type": "stream",
     "name": "stderr",
     "text": [
      "INFO:unityagents:\n'Academy' started successfully!\nUnity Academy name: Academy\n        Number of Brains: 1\n        Number of External Brains : 1\n        Lesson number : 0\n        Reset Parameters :\n\t\t\nUnity brain name: BananaBrain\n        Number of Visual Observations (per agent): 0\n        Vector Observation space type: continuous\n        Vector Observation space size (per agent): 37\n        Number of stacked Vector Observation: 1\n        Vector Action space type: discrete\n        Vector Action space size (per agent): 4\n        Vector Action descriptions: , , , \n"
     ]
    }
   ],
   "source": [
    "env = UnityEnvironment(file_name=\"Banana_Linux/Banana.x86_64\")"
   ]
  },
  {
   "cell_type": "markdown",
   "metadata": {},
   "source": [
    "Environments contain **_brains_** which are responsible for deciding the actions of their associated agents. Here we check for the first brain available, and set it as the default brain we will be controlling from Python."
   ]
  },
  {
   "cell_type": "code",
   "execution_count": 3,
   "metadata": {},
   "outputs": [],
   "source": [
    "# get the default brain\n",
    "brain_name = env.brain_names[0]\n",
    "brain = env.brains[brain_name]"
   ]
  },
  {
   "cell_type": "markdown",
   "metadata": {},
   "source": [
    "### 2. Examine the State and Action Spaces\n",
    "\n",
    "The simulation contains a single agent that navigates a large environment.  At each time step, it has four actions at its disposal:\n",
    "- `0` - walk forward \n",
    "- `1` - walk backward\n",
    "- `2` - turn left\n",
    "- `3` - turn right\n",
    "\n",
    "The state space has `37` dimensions and contains the agent's velocity, along with ray-based perception of objects around agent's forward direction.  A reward of `+1` is provided for collecting a yellow banana, and a reward of `-1` is provided for collecting a blue banana. \n",
    "\n",
    "Run the code cell below to print some information about the environment."
   ]
  },
  {
   "cell_type": "code",
   "execution_count": 4,
   "metadata": {},
   "outputs": [
    {
     "output_type": "stream",
     "name": "stdout",
     "text": [
      "Number of agents: 1\nNumber of actions: 4\nStates look like: [1.         0.         0.         0.         0.84408134 0.\n 0.         1.         0.         0.0748472  0.         1.\n 0.         0.         0.25755    1.         0.         0.\n 0.         0.74177343 0.         1.         0.         0.\n 0.25854847 0.         0.         1.         0.         0.09355672\n 0.         1.         0.         0.         0.31969345 0.\n 0.        ]\nStates have length: 37\n"
     ]
    }
   ],
   "source": [
    "# reset the environment\n",
    "env_info = env.reset(train_mode=True)[brain_name]\n",
    "\n",
    "# number of agents in the environment\n",
    "print('Number of agents:', len(env_info.agents))\n",
    "\n",
    "# number of actions\n",
    "action_size = brain.vector_action_space_size\n",
    "print('Number of actions:', action_size)\n",
    "\n",
    "# examine the state space \n",
    "state = env_info.vector_observations[0]\n",
    "print('States look like:', state)\n",
    "state_size = len(state)\n",
    "print('States have length:', state_size)"
   ]
  },
  {
   "cell_type": "markdown",
   "metadata": {},
   "source": [
    "### 3. Take Random Actions in the Environment\n",
    "\n",
    "In the next code cell, you will learn how to use the Python API to control the agent and receive feedback from the environment.\n",
    "\n",
    "Once this cell is executed, you will watch the agent's performance, if it selects an action (uniformly) at random with each time step.  A window should pop up that allows you to observe the agent, as it moves through the environment.  \n",
    "\n",
    "Of course, as part of the project, you'll have to change the code so that the agent is able to use its experience to gradually choose better actions when interacting with the environment!"
   ]
  },
  {
   "cell_type": "code",
   "execution_count": 5,
   "metadata": {},
   "outputs": [
    {
     "output_type": "stream",
     "name": "stdout",
     "text": [
      "Score: 0.0\n"
     ]
    }
   ],
   "source": [
    "env_info = env.reset(train_mode=False)[brain_name] # reset the environment\n",
    "state = env_info.vector_observations[0]            # get the current state\n",
    "score = 0                                          # initialize the score\n",
    "while True:\n",
    "    action = np.random.randint(action_size)        # select an action\n",
    "    env_info = env.step(action)[brain_name]        # send the action to the environment\n",
    "    next_state = env_info.vector_observations[0]   # get the next state\n",
    "    reward = env_info.rewards[0]                   # get the reward\n",
    "    done = env_info.local_done[0]                  # see if episode has finished\n",
    "    score += reward                                # update the score\n",
    "    state = next_state                             # roll over the state to next time step\n",
    "    if done:                                       # exit loop if episode finished\n",
    "        break\n",
    "    \n",
    "print(\"Score: {}\".format(score))"
   ]
  },
  {
   "cell_type": "markdown",
   "metadata": {},
   "source": [
    "When finished, you can close the environment."
   ]
  },
  {
   "cell_type": "code",
   "execution_count": 6,
   "metadata": {},
   "outputs": [],
   "source": [
    "env.close()"
   ]
  },
  {
   "cell_type": "markdown",
   "metadata": {},
   "source": [
    "### 4. It's Your Turn!\n",
    "\n",
    "Now it's your turn to train your own agent to solve the environment!  When training the environment, set `train_mode=True`, so that the line for resetting the environment looks like the following:\n",
    "```python\n",
    "env_info = env.reset(train_mode=True)[brain_name]\n",
    "```"
   ]
  },
  {
   "cell_type": "code",
   "execution_count": 1,
   "metadata": {},
   "outputs": [],
   "source": [
    "import numpy as np\n",
    "import matplotlib.pyplot as plt\n",
    "from unityagents import UnityEnvironment\n",
    "from dqn_agent import DQNAgent"
   ]
  },
  {
   "cell_type": "code",
   "execution_count": 2,
   "metadata": {},
   "outputs": [
    {
     "output_type": "stream",
     "name": "stderr",
     "text": [
      "INFO:unityagents:\n'Academy' started successfully!\nUnity Academy name: Academy\n        Number of Brains: 1\n        Number of External Brains : 1\n        Lesson number : 0\n        Reset Parameters :\n\t\t\nUnity brain name: BananaBrain\n        Number of Visual Observations (per agent): 0\n        Vector Observation space type: continuous\n        Vector Observation space size (per agent): 37\n        Number of stacked Vector Observation: 1\n        Vector Action space type: discrete\n        Vector Action space size (per agent): 4\n        Vector Action descriptions: , , , \n"
     ]
    }
   ],
   "source": [
    "env = UnityEnvironment(file_name=\"Banana_Linux/Banana.x86_64\")"
   ]
  },
  {
   "cell_type": "code",
   "execution_count": 3,
   "metadata": {},
   "outputs": [],
   "source": [
    "# get the default brain\n",
    "brain_name = env.brain_names[0]\n",
    "brain = env.brains[brain_name]"
   ]
  },
  {
   "cell_type": "code",
   "execution_count": 4,
   "metadata": {},
   "outputs": [
    {
     "output_type": "stream",
     "name": "stdout",
     "text": [
      "Number of agents: 1\nNumber of actions: 4\nStates look like: [1.         0.         0.         0.         0.84408134 0.\n 0.         1.         0.         0.0748472  0.         1.\n 0.         0.         0.25755    1.         0.         0.\n 0.         0.74177343 0.         1.         0.         0.\n 0.25854847 0.         0.         1.         0.         0.09355672\n 0.         1.         0.         0.         0.31969345 0.\n 0.        ]\nStates have length: 37\n"
     ]
    }
   ],
   "source": [
    "# reset the environment\n",
    "env_info = env.reset(train_mode=True)[brain_name]\n",
    "\n",
    "# number of agents in the environment\n",
    "print('Number of agents:', len(env_info.agents))\n",
    "\n",
    "# number of actions\n",
    "action_size = brain.vector_action_space_size\n",
    "print('Number of actions:', action_size)\n",
    "\n",
    "# examine the state space \n",
    "state = env_info.vector_observations[0]\n",
    "print('States look like:', state)\n",
    "state_size = len(state)\n",
    "print('States have length:', state_size)"
   ]
  },
  {
   "cell_type": "code",
   "execution_count": 5,
   "metadata": {
    "tags": [
     "outputPrepend"
    ]
   },
   "outputs": [
    {
     "output_type": "stream",
     "name": "stdout",
     "text": [
      " epsilon 0.54\n",
      "episode:  61 score:  0.0  average score 0.2 best score 0.29 epsilon 0.54\n",
      "episode:  62 score:  3.0  average score 0.3 best score 0.29 epsilon 0.53\n",
      "episode:  63 score:  3.0  average score 0.3 best score 0.30 epsilon 0.53\n",
      "episode:  64 score:  5.0  average score 0.4 best score 0.37 epsilon 0.52\n",
      "episode:  65 score:  2.0  average score 0.4 best score 0.39 epsilon 0.52\n",
      "episode:  66 score:  1.0  average score 0.4 best score 0.40 epsilon 0.51\n",
      "episode:  67 score:  0.0  average score 0.4 best score 0.40 epsilon 0.50\n",
      "episode:  68 score:  2.0  average score 0.4 best score 0.42 epsilon 0.50\n",
      "episode:  69 score:  1.0  average score 0.4 best score 0.43 epsilon 0.49\n",
      "episode:  70 score:  1.0  average score 0.4 best score 0.44 epsilon 0.49\n",
      "episode:  71 score:  1.0  average score 0.4 best score 0.44 epsilon 0.48\n",
      "episode:  72 score:  3.0  average score 0.5 best score 0.48 epsilon 0.48\n",
      "episode:  73 score:  0.0  average score 0.5 best score 0.48 epsilon 0.48\n",
      "episode:  74 score:  1.0  average score 0.5 best score 0.48 epsilon 0.47\n",
      "episode:  75 score:  0.0  average score 0.5 best score 0.48 epsilon 0.47\n",
      "episode:  76 score:  1.0  average score 0.5 best score 0.48 epsilon 0.46\n",
      "episode:  77 score:  2.0  average score 0.5 best score 0.50 epsilon 0.46\n",
      "episode:  78 score:  3.0  average score 0.5 best score 0.53 epsilon 0.45\n",
      "episode:  79 score:  6.0  average score 0.6 best score 0.60 epsilon 0.45\n",
      "episode:  80 score:  9.0  average score 0.7 best score 0.70 epsilon 0.44\n",
      "episode:  81 score:  1.0  average score 0.7 best score 0.71 epsilon 0.44\n",
      "episode:  82 score:  4.0  average score 0.7 best score 0.75 epsilon 0.43\n",
      "episode:  83 score:  2.0  average score 0.8 best score 0.76 epsilon 0.43\n",
      "episode:  84 score:  4.0  average score 0.8 best score 0.80 epsilon 0.43\n",
      "episode:  85 score:  2.0  average score 0.8 best score 0.81 epsilon 0.42\n",
      "episode:  86 score:  2.0  average score 0.8 best score 0.83 epsilon 0.42\n",
      "episode:  87 score:  2.0  average score 0.8 best score 0.84 epsilon 0.41\n",
      "episode:  88 score:  1.0  average score 0.8 best score 0.84 epsilon 0.41\n",
      "episode:  89 score:  4.0  average score 0.9 best score 0.88 epsilon 0.40\n",
      "episode:  90 score:  5.0  average score 0.9 best score 0.92 epsilon 0.40\n",
      "episode:  91 score:  2.0  average score 0.9 best score 0.93 epsilon 0.40\n",
      "episode:  92 score:  1.0  average score 0.9 best score 0.94 epsilon 0.39\n",
      "episode:  93 score:  4.0  average score 1.0 best score 0.97 epsilon 0.39\n",
      "episode:  94 score:  3.0  average score 1.0 best score 0.99 epsilon 0.38\n",
      "episode:  95 score:  2.0  average score 1.0 best score 1.00 epsilon 0.38\n",
      "episode:  96 score:  1.0  average score 1.0 best score 1.00 epsilon 0.38\n",
      "episode:  97 score:  2.0  average score 1.0 best score 1.01 epsilon 0.37\n",
      "episode:  98 score:  0.0  average score 1.0 best score 1.01 epsilon 0.37\n",
      "episode:  99 score:  3.0  average score 1.0 best score 1.02 epsilon 0.37\n",
      "episode:  100 score:  2.0  average score 1.0 best score 1.04 epsilon 0.36\n",
      "episode:  101 score:  5.0  average score 1.1 best score 1.09 epsilon 0.36\n",
      "episode:  102 score:  8.0  average score 1.2 best score 1.17 epsilon 0.36\n",
      "episode:  103 score:  5.0  average score 1.2 best score 1.22 epsilon 0.35\n",
      "episode:  104 score:  6.0  average score 1.3 best score 1.28 epsilon 0.35\n",
      "episode:  105 score:  2.0  average score 1.3 best score 1.30 epsilon 0.34\n",
      "episode:  106 score:  3.0  average score 1.3 best score 1.31 epsilon 0.34\n",
      "episode:  107 score:  7.0  average score 1.4 best score 1.38 epsilon 0.34\n",
      "episode:  108 score:  2.0  average score 1.4 best score 1.41 epsilon 0.33\n",
      "episode:  109 score:  3.0  average score 1.4 best score 1.45 epsilon 0.33\n",
      "episode:  110 score:  3.0  average score 1.5 best score 1.48 epsilon 0.33\n",
      "episode:  111 score:  2.0  average score 1.5 best score 1.52 epsilon 0.32\n",
      "episode:  112 score:  2.0  average score 1.5 best score 1.54 epsilon 0.32\n",
      "episode:  113 score:  3.0  average score 1.6 best score 1.57 epsilon 0.32\n",
      "episode:  114 score:  5.0  average score 1.6 best score 1.62 epsilon 0.31\n",
      "episode:  115 score:  5.0  average score 1.7 best score 1.68 epsilon 0.31\n",
      "episode:  116 score:  6.0  average score 1.8 best score 1.75 epsilon 0.31\n",
      "episode:  117 score:  8.0  average score 1.8 best score 1.83 epsilon 0.31\n",
      "episode:  118 score:  10.0  average score 1.9 best score 1.93 epsilon 0.30\n",
      "episode:  119 score:  4.0  average score 2.0 best score 1.99 epsilon 0.30\n",
      "episode:  120 score:  3.0  average score 2.0 best score 2.02 epsilon 0.30\n",
      "episode:  121 score:  7.0  average score 2.1 best score 2.09 epsilon 0.29\n",
      "episode:  122 score:  4.0  average score 2.1 best score 2.13 epsilon 0.29\n",
      "episode:  123 score:  6.0  average score 2.2 best score 2.20 epsilon 0.29\n",
      "episode:  124 score:  5.0  average score 2.2 best score 2.25 epsilon 0.28\n",
      "episode:  125 score:  3.0  average score 2.3 best score 2.28 epsilon 0.28\n",
      "episode:  126 score:  6.0  average score 2.3 best score 2.34 epsilon 0.28\n",
      "episode:  127 score:  11.0  average score 2.5 best score 2.46 epsilon 0.28\n",
      "episode:  128 score:  8.0  average score 2.5 best score 2.55 epsilon 0.27\n",
      "episode:  129 score:  7.0  average score 2.6 best score 2.59 epsilon 0.27\n",
      "episode:  130 score:  7.0  average score 2.7 best score 2.66 epsilon 0.27\n",
      "episode:  131 score:  7.0  average score 2.7 best score 2.73 epsilon 0.27\n",
      "episode:  132 score:  11.0  average score 2.9 best score 2.85 epsilon 0.26\n",
      "episode:  133 score:  8.0  average score 2.9 best score 2.92 epsilon 0.26\n",
      "episode:  134 score:  7.0  average score 3.0 best score 3.00 epsilon 0.26\n",
      "episode:  135 score:  9.0  average score 3.1 best score 3.07 epsilon 0.25\n",
      "episode:  136 score:  11.0  average score 3.1 best score 3.15 epsilon 0.25\n",
      "episode:  137 score:  6.0  average score 3.2 best score 3.20 epsilon 0.25\n",
      "episode:  138 score:  9.0  average score 3.3 best score 3.29 epsilon 0.25\n",
      "episode:  139 score:  11.0  average score 3.4 best score 3.41 epsilon 0.24\n",
      "episode:  140 score:  3.0  average score 3.4 best score 3.44 epsilon 0.24\n",
      "episode:  141 score:  10.0  average score 3.5 best score 3.52 epsilon 0.24\n",
      "episode:  142 score:  11.0  average score 3.6 best score 3.63 epsilon 0.24\n",
      "episode:  143 score:  10.0  average score 3.7 best score 3.73 epsilon 0.24\n",
      "episode:  144 score:  9.0  average score 3.8 best score 3.80 epsilon 0.23\n",
      "episode:  145 score:  12.0  average score 3.9 best score 3.93 epsilon 0.23\n",
      "episode:  146 score:  8.0  average score 4.0 best score 4.02 epsilon 0.23\n",
      "episode:  147 score:  10.0  average score 4.1 best score 4.11 epsilon 0.23\n",
      "episode:  148 score:  12.0  average score 4.2 best score 4.23 epsilon 0.22\n",
      "episode:  149 score:  7.0  average score 4.3 best score 4.28 epsilon 0.22\n",
      "episode:  150 score:  3.0  average score 4.3 best score 4.30 epsilon 0.22\n",
      "episode:  151 score:  7.0  average score 4.4 best score 4.38 epsilon 0.22\n",
      "episode:  152 score:  7.0  average score 4.4 best score 4.44 epsilon 0.21\n",
      "episode:  153 score:  5.0  average score 4.5 best score 4.48 epsilon 0.21\n",
      "episode:  154 score:  7.0  average score 4.5 best score 4.54 epsilon 0.21\n",
      "episode:  155 score:  11.0  average score 4.6 best score 4.64 epsilon 0.21\n",
      "episode:  156 score:  0.0  average score 4.6 best score 4.64 epsilon 0.21\n",
      "episode:  157 score:  9.0  average score 4.7 best score 4.69 epsilon 0.20\n",
      "episode:  158 score:  8.0  average score 4.8 best score 4.78 epsilon 0.20\n",
      "episode:  159 score:  6.0  average score 4.8 best score 4.82 epsilon 0.20\n",
      "episode:  160 score:  4.0  average score 4.8 best score 4.85 epsilon 0.20\n",
      "episode:  161 score:  5.0  average score 4.9 best score 4.90 epsilon 0.20\n",
      "episode:  162 score:  11.0  average score 5.0 best score 4.98 epsilon 0.19\n",
      "episode:  163 score:  5.0  average score 5.0 best score 5.00 epsilon 0.19\n",
      "episode:  164 score:  10.0  average score 5.0 best score 5.05 epsilon 0.19\n",
      "episode:  165 score:  9.0  average score 5.1 best score 5.12 epsilon 0.19\n",
      "episode:  166 score:  15.0  average score 5.3 best score 5.26 epsilon 0.19\n",
      "episode:  167 score:  1.0  average score 5.3 best score 5.27 epsilon 0.18\n",
      "episode:  168 score:  4.0  average score 5.3 best score 5.29 epsilon 0.18\n",
      "episode:  169 score:  9.0  average score 5.4 best score 5.37 epsilon 0.18\n",
      "episode:  170 score:  7.0  average score 5.4 best score 5.43 epsilon 0.18\n",
      "episode:  171 score:  8.0  average score 5.5 best score 5.50 epsilon 0.18\n",
      "episode:  172 score:  11.0  average score 5.6 best score 5.58 epsilon 0.18\n",
      "episode:  173 score:  6.0  average score 5.6 best score 5.64 epsilon 0.17\n",
      "episode:  174 score:  6.0  average score 5.7 best score 5.69 epsilon 0.17\n",
      "episode:  175 score:  12.0  average score 5.8 best score 5.81 epsilon 0.17\n",
      "episode:  176 score:  3.0  average score 5.8 best score 5.83 epsilon 0.17\n",
      "episode:  177 score:  7.0  average score 5.9 best score 5.88 epsilon 0.17\n",
      "episode:  178 score:  12.0  average score 6.0 best score 5.97 epsilon 0.17\n",
      "episode:  179 score:  8.0  average score 6.0 best score 5.99 epsilon 0.16\n",
      "episode:  180 score:  12.0  average score 6.0 best score 6.02 epsilon 0.16\n",
      "episode:  181 score:  10.0  average score 6.1 best score 6.11 epsilon 0.16\n",
      "episode:  182 score:  6.0  average score 6.1 best score 6.13 epsilon 0.16\n",
      "episode:  183 score:  7.0  average score 6.2 best score 6.18 epsilon 0.16\n",
      "episode:  184 score:  11.0  average score 6.2 best score 6.25 epsilon 0.16\n",
      "episode:  185 score:  8.0  average score 6.3 best score 6.31 epsilon 0.15\n",
      "episode:  186 score:  14.0  average score 6.4 best score 6.43 epsilon 0.15\n",
      "episode:  187 score:  11.0  average score 6.5 best score 6.52 epsilon 0.15\n",
      "episode:  188 score:  13.0  average score 6.6 best score 6.64 epsilon 0.15\n",
      "episode:  189 score:  3.0  average score 6.6 best score 6.64 epsilon 0.15\n",
      "episode:  190 score:  13.0  average score 6.7 best score 6.71 epsilon 0.15\n",
      "episode:  191 score:  8.0  average score 6.8 best score 6.77 epsilon 0.15\n",
      "episode:  192 score:  10.0  average score 6.9 best score 6.86 epsilon 0.14\n",
      "episode:  193 score:  11.0  average score 6.9 best score 6.93 epsilon 0.14\n",
      "episode:  194 score:  11.0  average score 7.0 best score 7.01 epsilon 0.14\n",
      "episode:  195 score:  10.0  average score 7.1 best score 7.09 epsilon 0.14\n",
      "episode:  196 score:  9.0  average score 7.2 best score 7.17 epsilon 0.14\n",
      "episode:  197 score:  7.0  average score 7.2 best score 7.22 epsilon 0.14\n",
      "episode:  198 score:  11.0  average score 7.3 best score 7.33 epsilon 0.14\n",
      "episode:  199 score:  11.0  average score 7.4 best score 7.41 epsilon 0.13\n",
      "episode:  200 score:  6.0  average score 7.5 best score 7.45 epsilon 0.13\n",
      "episode:  201 score:  11.0  average score 7.5 best score 7.51 epsilon 0.13\n",
      "episode:  202 score:  11.0  average score 7.5 best score 7.54 epsilon 0.13\n",
      "episode:  203 score:  10.0  average score 7.6 best score 7.59 epsilon 0.13\n",
      "episode:  204 score:  11.0  average score 7.6 best score 7.64 epsilon 0.13\n",
      "episode:  205 score:  9.0  average score 7.7 best score 7.71 epsilon 0.13\n",
      "episode:  206 score:  16.0  average score 7.8 best score 7.84 epsilon 0.12\n",
      "episode:  207 score:  10.0  average score 7.9 best score 7.87 epsilon 0.12\n",
      "episode:  208 score:  0.0  average score 7.8 best score 7.87 epsilon 0.12\n",
      "episode:  209 score:  12.0  average score 7.9 best score 7.94 epsilon 0.12\n",
      "episode:  210 score:  11.0  average score 8.0 best score 8.02 epsilon 0.12\n",
      "episode:  211 score:  17.0  average score 8.2 best score 8.17 epsilon 0.12\n",
      "episode:  212 score:  10.0  average score 8.2 best score 8.25 epsilon 0.12\n",
      "episode:  213 score:  10.0  average score 8.3 best score 8.32 epsilon 0.12\n",
      "episode:  214 score:  10.0  average score 8.4 best score 8.37 epsilon 0.12\n",
      "episode:  215 score:  7.0  average score 8.4 best score 8.39 epsilon 0.11\n",
      "episode:  216 score:  3.0  average score 8.4 best score 8.39 epsilon 0.11\n",
      "episode:  217 score:  13.0  average score 8.4 best score 8.41 epsilon 0.11\n",
      "episode:  218 score:  11.0  average score 8.4 best score 8.42 epsilon 0.11\n",
      "episode:  219 score:  10.0  average score 8.5 best score 8.48 epsilon 0.11\n",
      "episode:  220 score:  8.0  average score 8.5 best score 8.53 epsilon 0.11\n",
      "episode:  221 score:  12.0  average score 8.6 best score 8.58 epsilon 0.11\n",
      "episode:  222 score:  11.0  average score 8.7 best score 8.65 epsilon 0.11\n",
      "episode:  223 score:  12.0  average score 8.7 best score 8.71 epsilon 0.11\n",
      "episode:  224 score:  9.0  average score 8.8 best score 8.75 epsilon 0.10\n",
      "episode:  225 score:  11.0  average score 8.8 best score 8.83 epsilon 0.10\n",
      "episode:  226 score:  13.0  average score 8.9 best score 8.90 epsilon 0.10\n",
      "episode:  227 score:  13.0  average score 8.9 best score 8.92 epsilon 0.10\n",
      "episode:  228 score:  12.0  average score 9.0 best score 8.96 epsilon 0.10\n",
      "episode:  229 score:  5.0  average score 8.9 best score 8.96 epsilon 0.10\n",
      "episode:  230 score:  14.0  average score 9.0 best score 9.01 epsilon 0.10\n",
      "episode:  231 score:  12.0  average score 9.1 best score 9.06 epsilon 0.10\n",
      "episode:  232 score:  10.0  average score 9.1 best score 9.06 epsilon 0.10\n",
      "episode:  233 score:  20.0  average score 9.2 best score 9.17 epsilon 0.10\n",
      "episode:  234 score:  16.0  average score 9.3 best score 9.26 epsilon 0.10\n",
      "episode:  235 score:  13.0  average score 9.3 best score 9.30 epsilon 0.10\n",
      "episode:  236 score:  7.0  average score 9.3 best score 9.30 epsilon 0.10\n",
      "episode:  237 score:  14.0  average score 9.3 best score 9.34 epsilon 0.10\n",
      "episode:  238 score:  13.0  average score 9.4 best score 9.38 epsilon 0.10\n",
      "episode:  239 score:  15.0  average score 9.4 best score 9.42 epsilon 0.10\n",
      "episode:  240 score:  11.0  average score 9.5 best score 9.50 epsilon 0.10\n",
      "episode:  241 score:  16.0  average score 9.6 best score 9.56 epsilon 0.10\n",
      "episode:  242 score:  4.0  average score 9.5 best score 9.56 epsilon 0.10\n",
      "episode:  243 score:  14.0  average score 9.5 best score 9.56 epsilon 0.10\n",
      "episode:  244 score:  14.0  average score 9.6 best score 9.58 epsilon 0.10\n",
      "episode:  245 score:  10.0  average score 9.6 best score 9.58 epsilon 0.10\n",
      "episode:  246 score:  15.0  average score 9.6 best score 9.63 epsilon 0.10\n",
      "episode:  247 score:  17.0  average score 9.7 best score 9.70 epsilon 0.10\n",
      "episode:  248 score:  9.0  average score 9.7 best score 9.70 epsilon 0.10\n",
      "episode:  249 score:  14.0  average score 9.7 best score 9.74 epsilon 0.10\n",
      "episode:  250 score:  9.0  average score 9.8 best score 9.80 epsilon 0.10\n",
      "episode:  251 score:  14.0  average score 9.9 best score 9.87 epsilon 0.10\n",
      "episode:  252 score:  13.0  average score 9.9 best score 9.93 epsilon 0.10\n",
      "episode:  253 score:  14.0  average score 10.0 best score 10.02 epsilon 0.10\n",
      "episode:  254 score:  12.0  average score 10.1 best score 10.07 epsilon 0.10\n",
      "episode:  255 score:  13.0  average score 10.1 best score 10.09 epsilon 0.10\n",
      "episode:  256 score:  10.0  average score 10.2 best score 10.19 epsilon 0.10\n",
      "episode:  257 score:  22.0  average score 10.3 best score 10.32 epsilon 0.10\n",
      "episode:  258 score:  12.0  average score 10.4 best score 10.36 epsilon 0.10\n",
      "episode:  259 score:  12.0  average score 10.4 best score 10.42 epsilon 0.10\n",
      "episode:  260 score:  9.0  average score 10.5 best score 10.47 epsilon 0.10\n",
      "episode:  261 score:  15.0  average score 10.6 best score 10.57 epsilon 0.10\n",
      "episode:  262 score:  14.0  average score 10.6 best score 10.60 epsilon 0.10\n",
      "episode:  263 score:  14.0  average score 10.7 best score 10.69 epsilon 0.10\n",
      "episode:  264 score:  9.0  average score 10.7 best score 10.69 epsilon 0.10\n",
      "episode:  265 score:  12.0  average score 10.7 best score 10.71 epsilon 0.10\n",
      "episode:  266 score:  12.0  average score 10.7 best score 10.71 epsilon 0.10\n",
      "episode:  267 score:  8.0  average score 10.8 best score 10.75 epsilon 0.10\n",
      "episode:  268 score:  11.0  average score 10.8 best score 10.82 epsilon 0.10\n",
      "episode:  269 score:  14.0  average score 10.9 best score 10.87 epsilon 0.10\n",
      "episode:  270 score:  16.0  average score 11.0 best score 10.96 epsilon 0.10\n",
      "episode:  271 score:  14.0  average score 11.0 best score 11.02 epsilon 0.10\n",
      "episode:  272 score:  16.0  average score 11.1 best score 11.07 epsilon 0.10\n",
      "episode:  273 score:  16.0  average score 11.2 best score 11.17 epsilon 0.10\n",
      "episode:  274 score:  12.0  average score 11.2 best score 11.23 epsilon 0.10\n",
      "episode:  275 score:  20.0  average score 11.3 best score 11.31 epsilon 0.10\n",
      "episode:  276 score:  16.0  average score 11.4 best score 11.44 epsilon 0.10\n",
      "episode:  277 score:  15.0  average score 11.5 best score 11.52 epsilon 0.10\n",
      "episode:  278 score:  12.0  average score 11.5 best score 11.52 epsilon 0.10\n",
      "episode:  279 score:  15.0  average score 11.6 best score 11.59 epsilon 0.10\n",
      "episode:  280 score:  11.0  average score 11.6 best score 11.59 epsilon 0.10\n",
      "episode:  281 score:  13.0  average score 11.6 best score 11.61 epsilon 0.10\n",
      "episode:  282 score:  13.0  average score 11.7 best score 11.68 epsilon 0.10\n",
      "episode:  283 score:  17.0  average score 11.8 best score 11.78 epsilon 0.10\n",
      "episode:  284 score:  12.0  average score 11.8 best score 11.79 epsilon 0.10\n",
      "episode:  285 score:  11.0  average score 11.8 best score 11.82 epsilon 0.10\n",
      "episode:  286 score:  9.0  average score 11.8 best score 11.82 epsilon 0.10\n",
      "episode:  287 score:  16.0  average score 11.8 best score 11.82 epsilon 0.10\n",
      "episode:  288 score:  18.0  average score 11.9 best score 11.87 epsilon 0.10\n",
      "episode:  289 score:  14.0  average score 12.0 best score 11.98 epsilon 0.10\n",
      "episode:  290 score:  15.0  average score 12.0 best score 12.00 epsilon 0.10\n",
      "episode:  291 score:  11.0  average score 12.0 best score 12.03 epsilon 0.10\n",
      "episode:  292 score:  12.0  average score 12.1 best score 12.05 epsilon 0.10\n",
      "episode:  293 score:  12.0  average score 12.1 best score 12.06 epsilon 0.10\n",
      "episode:  294 score:  18.0  average score 12.1 best score 12.13 epsilon 0.10\n",
      "episode:  295 score:  17.0  average score 12.2 best score 12.20 epsilon 0.10\n",
      "episode:  296 score:  10.0  average score 12.2 best score 12.21 epsilon 0.10\n",
      "episode:  297 score:  8.0  average score 12.2 best score 12.22 epsilon 0.10\n",
      "episode:  298 score:  11.0  average score 12.2 best score 12.22 epsilon 0.10\n",
      "episode:  299 score:  15.0  average score 12.3 best score 12.26 epsilon 0.10\n",
      "episode:  300 score:  12.0  average score 12.3 best score 12.32 epsilon 0.10\n",
      "episode:  301 score:  10.0  average score 12.3 best score 12.32 epsilon 0.10\n",
      "episode:  302 score:  14.0  average score 12.3 best score 12.34 epsilon 0.10\n",
      "episode:  303 score:  18.0  average score 12.4 best score 12.42 epsilon 0.10\n",
      "episode:  304 score:  8.0  average score 12.4 best score 12.42 epsilon 0.10\n",
      "episode:  305 score:  7.0  average score 12.4 best score 12.42 epsilon 0.10\n",
      "episode:  306 score:  19.0  average score 12.4 best score 12.42 epsilon 0.10\n",
      "episode:  307 score:  13.0  average score 12.4 best score 12.43 epsilon 0.10\n",
      "episode:  308 score:  19.0  average score 12.6 best score 12.62 epsilon 0.10\n",
      "episode:  309 score:  13.0  average score 12.6 best score 12.63 epsilon 0.10\n",
      "episode:  310 score:  10.0  average score 12.6 best score 12.63 epsilon 0.10\n",
      "episode:  311 score:  10.0  average score 12.6 best score 12.63 epsilon 0.10\n",
      "episode:  312 score:  13.0  average score 12.6 best score 12.63 epsilon 0.10\n",
      "episode:  313 score:  15.0  average score 12.6 best score 12.63 epsilon 0.10\n",
      "episode:  314 score:  13.0  average score 12.7 best score 12.66 epsilon 0.10\n",
      "episode:  315 score:  14.0  average score 12.7 best score 12.73 epsilon 0.10\n",
      "episode:  316 score:  11.0  average score 12.8 best score 12.81 epsilon 0.10\n",
      "episode:  317 score:  15.0  average score 12.8 best score 12.83 epsilon 0.10\n",
      "episode:  318 score:  12.0  average score 12.8 best score 12.84 epsilon 0.10\n",
      "episode:  319 score:  10.0  average score 12.8 best score 12.84 epsilon 0.10\n",
      "episode:  320 score:  9.0  average score 12.8 best score 12.85 epsilon 0.10\n",
      "episode:  321 score:  12.0  average score 12.8 best score 12.85 epsilon 0.10\n",
      "episode:  322 score:  14.0  average score 12.9 best score 12.88 epsilon 0.10\n",
      "episode:  323 score:  14.0  average score 12.9 best score 12.90 epsilon 0.10\n",
      "episode:  324 score:  9.0  average score 12.9 best score 12.90 epsilon 0.10\n",
      "episode:  325 score:  13.0  average score 12.9 best score 12.92 epsilon 0.10\n",
      "episode:  326 score:  21.0  average score 13.0 best score 13.00 epsilon 0.10\n",
      "Environment solved!\n",
      "saving checkpoint\n",
      "saving checkpoint\n"
     ]
    }
   ],
   "source": [
    "n_episodes = 500\n",
    "best_score = -np.inf\n",
    "scores = []\n",
    "eps_history = []\n",
    "                \n",
    "gamma = 0.99\n",
    "lr = 0.0001\n",
    "epsilon_start = 1\n",
    "epsilon_min = 0.1\n",
    "epsilon_decay = 0.99\n",
    "buffer_size = 50000\n",
    "batch_size = 32\n",
    "update_frequency = 4\n",
    "soft_update = True\n",
    "tau = 0.001\n",
    "checkpoint_dir='models/'\n",
    "agent = DQNAgent(gamma, lr, epsilon_start, epsilon_min, epsilon_decay, state_size, action_size,\n",
    "                buffer_size, batch_size, update_frequency, soft_update, tau, checkpoint_dir)\n",
    "\n",
    "for i in range(n_episodes):\n",
    "    score = 0\n",
    "    done = False\n",
    "    env_info = env.reset(train_mode=True)[brain_name]\n",
    "    state = env_info.vector_observations[0]\n",
    "\n",
    "    while not done:\n",
    "        action = agent.choose_action(state)\n",
    "        env_info = env.step(action)[brain_name]       \n",
    "        next_state = env_info.vector_observations[0]  \n",
    "        reward = env_info.rewards[0]  \n",
    "        done = env_info.local_done[0]\n",
    "\n",
    "        agent.step(state, action, reward, next_state, done)\n",
    "\n",
    "        state = next_state\n",
    "        score += reward\n",
    "\n",
    "    scores.append(score)\n",
    "    ave_score = np.mean(scores[-100:])\n",
    "    eps_history.append(agent.epsilon)\n",
    "    agent.decrement_epsilon()\n",
    "    if ave_score > best_score:\n",
    "        best_score = ave_score\n",
    "    print('episode: ', i,'score: ', score, ' average score %.1f' % ave_score, \n",
    "            'best score %.2f' % best_score, 'epsilon %.2f' % agent.epsilon)\n",
    "    if ave_score >= 13.0:\n",
    "        print('Environment solved!')\n",
    "        agent.save_models()\n",
    "        break"
   ]
  },
  {
   "cell_type": "code",
   "execution_count": 6,
   "metadata": {},
   "outputs": [
    {
     "output_type": "display_data",
     "data": {
      "text/plain": "<Figure size 432x288 with 1 Axes>",
      "image/svg+xml": "<?xml version=\"1.0\" encoding=\"utf-8\" standalone=\"no\"?>\n<!DOCTYPE svg PUBLIC \"-//W3C//DTD SVG 1.1//EN\"\n  \"http://www.w3.org/Graphics/SVG/1.1/DTD/svg11.dtd\">\n<!-- Created with matplotlib (https://matplotlib.org/) -->\n<svg height=\"262.19625pt\" version=\"1.1\" viewBox=\"0 0 382.603125 262.19625\" width=\"382.603125pt\" xmlns=\"http://www.w3.org/2000/svg\" xmlns:xlink=\"http://www.w3.org/1999/xlink\">\n <metadata>\n  <rdf:RDF xmlns:cc=\"http://creativecommons.org/ns#\" xmlns:dc=\"http://purl.org/dc/elements/1.1/\" xmlns:rdf=\"http://www.w3.org/1999/02/22-rdf-syntax-ns#\">\n   <cc:Work>\n    <dc:type rdf:resource=\"http://purl.org/dc/dcmitype/StillImage\"/>\n    <dc:date>2021-01-18T08:07:02.463992</dc:date>\n    <dc:format>image/svg+xml</dc:format>\n    <dc:creator>\n     <cc:Agent>\n      <dc:title>Matplotlib v3.3.3, https://matplotlib.org/</dc:title>\n     </cc:Agent>\n    </dc:creator>\n   </cc:Work>\n  </rdf:RDF>\n </metadata>\n <defs>\n  <style type=\"text/css\">*{stroke-linecap:butt;stroke-linejoin:round;}</style>\n </defs>\n <g id=\"figure_1\">\n  <g id=\"patch_1\">\n   <path d=\"M 0 262.19625 \nL 382.603125 262.19625 \nL 382.603125 0 \nL 0 0 \nz\n\" style=\"fill:none;\"/>\n  </g>\n  <g id=\"axes_1\">\n   <g id=\"patch_2\">\n    <path d=\"M 40.603125 224.64 \nL 375.403125 224.64 \nL 375.403125 7.2 \nL 40.603125 7.2 \nz\n\" style=\"fill:#ffffff;\"/>\n   </g>\n   <g id=\"matplotlib.axis_1\">\n    <g id=\"xtick_1\">\n     <g id=\"line2d_1\">\n      <defs>\n       <path d=\"M 0 0 \nL 0 3.5 \n\" id=\"m2be835977b\" style=\"stroke:#000000;stroke-width:0.8;\"/>\n      </defs>\n      <g>\n       <use style=\"stroke:#000000;stroke-width:0.8;\" x=\"55.821307\" xlink:href=\"#m2be835977b\" y=\"224.64\"/>\n      </g>\n     </g>\n     <g id=\"text_1\">\n      <!-- 0 -->\n      <g transform=\"translate(52.640057 239.238437)scale(0.1 -0.1)\">\n       <defs>\n        <path d=\"M 31.78125 66.40625 \nQ 24.171875 66.40625 20.328125 58.90625 \nQ 16.5 51.421875 16.5 36.375 \nQ 16.5 21.390625 20.328125 13.890625 \nQ 24.171875 6.390625 31.78125 6.390625 \nQ 39.453125 6.390625 43.28125 13.890625 \nQ 47.125 21.390625 47.125 36.375 \nQ 47.125 51.421875 43.28125 58.90625 \nQ 39.453125 66.40625 31.78125 66.40625 \nz\nM 31.78125 74.21875 \nQ 44.046875 74.21875 50.515625 64.515625 \nQ 56.984375 54.828125 56.984375 36.375 \nQ 56.984375 17.96875 50.515625 8.265625 \nQ 44.046875 -1.421875 31.78125 -1.421875 \nQ 19.53125 -1.421875 13.0625 8.265625 \nQ 6.59375 17.96875 6.59375 36.375 \nQ 6.59375 54.828125 13.0625 64.515625 \nQ 19.53125 74.21875 31.78125 74.21875 \nz\n\" id=\"DejaVuSans-48\"/>\n       </defs>\n       <use xlink:href=\"#DejaVuSans-48\"/>\n      </g>\n     </g>\n    </g>\n    <g id=\"xtick_2\">\n     <g id=\"line2d_2\">\n      <g>\n       <use style=\"stroke:#000000;stroke-width:0.8;\" x=\"102.502846\" xlink:href=\"#m2be835977b\" y=\"224.64\"/>\n      </g>\n     </g>\n     <g id=\"text_2\">\n      <!-- 50 -->\n      <g transform=\"translate(96.140346 239.238437)scale(0.1 -0.1)\">\n       <defs>\n        <path d=\"M 10.796875 72.90625 \nL 49.515625 72.90625 \nL 49.515625 64.59375 \nL 19.828125 64.59375 \nL 19.828125 46.734375 \nQ 21.96875 47.46875 24.109375 47.828125 \nQ 26.265625 48.1875 28.421875 48.1875 \nQ 40.625 48.1875 47.75 41.5 \nQ 54.890625 34.8125 54.890625 23.390625 \nQ 54.890625 11.625 47.5625 5.09375 \nQ 40.234375 -1.421875 26.90625 -1.421875 \nQ 22.3125 -1.421875 17.546875 -0.640625 \nQ 12.796875 0.140625 7.71875 1.703125 \nL 7.71875 11.625 \nQ 12.109375 9.234375 16.796875 8.0625 \nQ 21.484375 6.890625 26.703125 6.890625 \nQ 35.15625 6.890625 40.078125 11.328125 \nQ 45.015625 15.765625 45.015625 23.390625 \nQ 45.015625 31 40.078125 35.4375 \nQ 35.15625 39.890625 26.703125 39.890625 \nQ 22.75 39.890625 18.8125 39.015625 \nQ 14.890625 38.140625 10.796875 36.28125 \nz\n\" id=\"DejaVuSans-53\"/>\n       </defs>\n       <use xlink:href=\"#DejaVuSans-53\"/>\n       <use x=\"63.623047\" xlink:href=\"#DejaVuSans-48\"/>\n      </g>\n     </g>\n    </g>\n    <g id=\"xtick_3\">\n     <g id=\"line2d_3\">\n      <g>\n       <use style=\"stroke:#000000;stroke-width:0.8;\" x=\"149.184385\" xlink:href=\"#m2be835977b\" y=\"224.64\"/>\n      </g>\n     </g>\n     <g id=\"text_3\">\n      <!-- 100 -->\n      <g transform=\"translate(139.640635 239.238437)scale(0.1 -0.1)\">\n       <defs>\n        <path d=\"M 12.40625 8.296875 \nL 28.515625 8.296875 \nL 28.515625 63.921875 \nL 10.984375 60.40625 \nL 10.984375 69.390625 \nL 28.421875 72.90625 \nL 38.28125 72.90625 \nL 38.28125 8.296875 \nL 54.390625 8.296875 \nL 54.390625 0 \nL 12.40625 0 \nz\n\" id=\"DejaVuSans-49\"/>\n       </defs>\n       <use xlink:href=\"#DejaVuSans-49\"/>\n       <use x=\"63.623047\" xlink:href=\"#DejaVuSans-48\"/>\n       <use x=\"127.246094\" xlink:href=\"#DejaVuSans-48\"/>\n      </g>\n     </g>\n    </g>\n    <g id=\"xtick_4\">\n     <g id=\"line2d_4\">\n      <g>\n       <use style=\"stroke:#000000;stroke-width:0.8;\" x=\"195.865925\" xlink:href=\"#m2be835977b\" y=\"224.64\"/>\n      </g>\n     </g>\n     <g id=\"text_4\">\n      <!-- 150 -->\n      <g transform=\"translate(186.322175 239.238437)scale(0.1 -0.1)\">\n       <use xlink:href=\"#DejaVuSans-49\"/>\n       <use x=\"63.623047\" xlink:href=\"#DejaVuSans-53\"/>\n       <use x=\"127.246094\" xlink:href=\"#DejaVuSans-48\"/>\n      </g>\n     </g>\n    </g>\n    <g id=\"xtick_5\">\n     <g id=\"line2d_5\">\n      <g>\n       <use style=\"stroke:#000000;stroke-width:0.8;\" x=\"242.547464\" xlink:href=\"#m2be835977b\" y=\"224.64\"/>\n      </g>\n     </g>\n     <g id=\"text_5\">\n      <!-- 200 -->\n      <g transform=\"translate(233.003714 239.238437)scale(0.1 -0.1)\">\n       <defs>\n        <path d=\"M 19.1875 8.296875 \nL 53.609375 8.296875 \nL 53.609375 0 \nL 7.328125 0 \nL 7.328125 8.296875 \nQ 12.9375 14.109375 22.625 23.890625 \nQ 32.328125 33.6875 34.8125 36.53125 \nQ 39.546875 41.84375 41.421875 45.53125 \nQ 43.3125 49.21875 43.3125 52.78125 \nQ 43.3125 58.59375 39.234375 62.25 \nQ 35.15625 65.921875 28.609375 65.921875 \nQ 23.96875 65.921875 18.8125 64.3125 \nQ 13.671875 62.703125 7.8125 59.421875 \nL 7.8125 69.390625 \nQ 13.765625 71.78125 18.9375 73 \nQ 24.125 74.21875 28.421875 74.21875 \nQ 39.75 74.21875 46.484375 68.546875 \nQ 53.21875 62.890625 53.21875 53.421875 \nQ 53.21875 48.921875 51.53125 44.890625 \nQ 49.859375 40.875 45.40625 35.40625 \nQ 44.1875 33.984375 37.640625 27.21875 \nQ 31.109375 20.453125 19.1875 8.296875 \nz\n\" id=\"DejaVuSans-50\"/>\n       </defs>\n       <use xlink:href=\"#DejaVuSans-50\"/>\n       <use x=\"63.623047\" xlink:href=\"#DejaVuSans-48\"/>\n       <use x=\"127.246094\" xlink:href=\"#DejaVuSans-48\"/>\n      </g>\n     </g>\n    </g>\n    <g id=\"xtick_6\">\n     <g id=\"line2d_6\">\n      <g>\n       <use style=\"stroke:#000000;stroke-width:0.8;\" x=\"289.229003\" xlink:href=\"#m2be835977b\" y=\"224.64\"/>\n      </g>\n     </g>\n     <g id=\"text_6\">\n      <!-- 250 -->\n      <g transform=\"translate(279.685253 239.238437)scale(0.1 -0.1)\">\n       <use xlink:href=\"#DejaVuSans-50\"/>\n       <use x=\"63.623047\" xlink:href=\"#DejaVuSans-53\"/>\n       <use x=\"127.246094\" xlink:href=\"#DejaVuSans-48\"/>\n      </g>\n     </g>\n    </g>\n    <g id=\"xtick_7\">\n     <g id=\"line2d_7\">\n      <g>\n       <use style=\"stroke:#000000;stroke-width:0.8;\" x=\"335.910543\" xlink:href=\"#m2be835977b\" y=\"224.64\"/>\n      </g>\n     </g>\n     <g id=\"text_7\">\n      <!-- 300 -->\n      <g transform=\"translate(326.366793 239.238437)scale(0.1 -0.1)\">\n       <defs>\n        <path d=\"M 40.578125 39.3125 \nQ 47.65625 37.796875 51.625 33 \nQ 55.609375 28.21875 55.609375 21.1875 \nQ 55.609375 10.40625 48.1875 4.484375 \nQ 40.765625 -1.421875 27.09375 -1.421875 \nQ 22.515625 -1.421875 17.65625 -0.515625 \nQ 12.796875 0.390625 7.625 2.203125 \nL 7.625 11.71875 \nQ 11.71875 9.328125 16.59375 8.109375 \nQ 21.484375 6.890625 26.8125 6.890625 \nQ 36.078125 6.890625 40.9375 10.546875 \nQ 45.796875 14.203125 45.796875 21.1875 \nQ 45.796875 27.640625 41.28125 31.265625 \nQ 36.765625 34.90625 28.71875 34.90625 \nL 20.21875 34.90625 \nL 20.21875 43.015625 \nL 29.109375 43.015625 \nQ 36.375 43.015625 40.234375 45.921875 \nQ 44.09375 48.828125 44.09375 54.296875 \nQ 44.09375 59.90625 40.109375 62.90625 \nQ 36.140625 65.921875 28.71875 65.921875 \nQ 24.65625 65.921875 20.015625 65.03125 \nQ 15.375 64.15625 9.8125 62.3125 \nL 9.8125 71.09375 \nQ 15.4375 72.65625 20.34375 73.4375 \nQ 25.25 74.21875 29.59375 74.21875 \nQ 40.828125 74.21875 47.359375 69.109375 \nQ 53.90625 64.015625 53.90625 55.328125 \nQ 53.90625 49.265625 50.4375 45.09375 \nQ 46.96875 40.921875 40.578125 39.3125 \nz\n\" id=\"DejaVuSans-51\"/>\n       </defs>\n       <use xlink:href=\"#DejaVuSans-51\"/>\n       <use x=\"63.623047\" xlink:href=\"#DejaVuSans-48\"/>\n       <use x=\"127.246094\" xlink:href=\"#DejaVuSans-48\"/>\n      </g>\n     </g>\n    </g>\n    <g id=\"text_8\">\n     <!-- Episode # -->\n     <g transform=\"translate(182.586719 252.916562)scale(0.1 -0.1)\">\n      <defs>\n       <path d=\"M 9.8125 72.90625 \nL 55.90625 72.90625 \nL 55.90625 64.59375 \nL 19.671875 64.59375 \nL 19.671875 43.015625 \nL 54.390625 43.015625 \nL 54.390625 34.71875 \nL 19.671875 34.71875 \nL 19.671875 8.296875 \nL 56.78125 8.296875 \nL 56.78125 0 \nL 9.8125 0 \nz\n\" id=\"DejaVuSans-69\"/>\n       <path d=\"M 18.109375 8.203125 \nL 18.109375 -20.796875 \nL 9.078125 -20.796875 \nL 9.078125 54.6875 \nL 18.109375 54.6875 \nL 18.109375 46.390625 \nQ 20.953125 51.265625 25.265625 53.625 \nQ 29.59375 56 35.59375 56 \nQ 45.5625 56 51.78125 48.09375 \nQ 58.015625 40.1875 58.015625 27.296875 \nQ 58.015625 14.40625 51.78125 6.484375 \nQ 45.5625 -1.421875 35.59375 -1.421875 \nQ 29.59375 -1.421875 25.265625 0.953125 \nQ 20.953125 3.328125 18.109375 8.203125 \nz\nM 48.6875 27.296875 \nQ 48.6875 37.203125 44.609375 42.84375 \nQ 40.53125 48.484375 33.40625 48.484375 \nQ 26.265625 48.484375 22.1875 42.84375 \nQ 18.109375 37.203125 18.109375 27.296875 \nQ 18.109375 17.390625 22.1875 11.75 \nQ 26.265625 6.109375 33.40625 6.109375 \nQ 40.53125 6.109375 44.609375 11.75 \nQ 48.6875 17.390625 48.6875 27.296875 \nz\n\" id=\"DejaVuSans-112\"/>\n       <path d=\"M 9.421875 54.6875 \nL 18.40625 54.6875 \nL 18.40625 0 \nL 9.421875 0 \nz\nM 9.421875 75.984375 \nL 18.40625 75.984375 \nL 18.40625 64.59375 \nL 9.421875 64.59375 \nz\n\" id=\"DejaVuSans-105\"/>\n       <path d=\"M 44.28125 53.078125 \nL 44.28125 44.578125 \nQ 40.484375 46.53125 36.375 47.5 \nQ 32.28125 48.484375 27.875 48.484375 \nQ 21.1875 48.484375 17.84375 46.4375 \nQ 14.5 44.390625 14.5 40.28125 \nQ 14.5 37.15625 16.890625 35.375 \nQ 19.28125 33.59375 26.515625 31.984375 \nL 29.59375 31.296875 \nQ 39.15625 29.25 43.1875 25.515625 \nQ 47.21875 21.78125 47.21875 15.09375 \nQ 47.21875 7.46875 41.1875 3.015625 \nQ 35.15625 -1.421875 24.609375 -1.421875 \nQ 20.21875 -1.421875 15.453125 -0.5625 \nQ 10.6875 0.296875 5.421875 2 \nL 5.421875 11.28125 \nQ 10.40625 8.6875 15.234375 7.390625 \nQ 20.0625 6.109375 24.8125 6.109375 \nQ 31.15625 6.109375 34.5625 8.28125 \nQ 37.984375 10.453125 37.984375 14.40625 \nQ 37.984375 18.0625 35.515625 20.015625 \nQ 33.0625 21.96875 24.703125 23.78125 \nL 21.578125 24.515625 \nQ 13.234375 26.265625 9.515625 29.90625 \nQ 5.8125 33.546875 5.8125 39.890625 \nQ 5.8125 47.609375 11.28125 51.796875 \nQ 16.75 56 26.8125 56 \nQ 31.78125 56 36.171875 55.265625 \nQ 40.578125 54.546875 44.28125 53.078125 \nz\n\" id=\"DejaVuSans-115\"/>\n       <path d=\"M 30.609375 48.390625 \nQ 23.390625 48.390625 19.1875 42.75 \nQ 14.984375 37.109375 14.984375 27.296875 \nQ 14.984375 17.484375 19.15625 11.84375 \nQ 23.34375 6.203125 30.609375 6.203125 \nQ 37.796875 6.203125 41.984375 11.859375 \nQ 46.1875 17.53125 46.1875 27.296875 \nQ 46.1875 37.015625 41.984375 42.703125 \nQ 37.796875 48.390625 30.609375 48.390625 \nz\nM 30.609375 56 \nQ 42.328125 56 49.015625 48.375 \nQ 55.71875 40.765625 55.71875 27.296875 \nQ 55.71875 13.875 49.015625 6.21875 \nQ 42.328125 -1.421875 30.609375 -1.421875 \nQ 18.84375 -1.421875 12.171875 6.21875 \nQ 5.515625 13.875 5.515625 27.296875 \nQ 5.515625 40.765625 12.171875 48.375 \nQ 18.84375 56 30.609375 56 \nz\n\" id=\"DejaVuSans-111\"/>\n       <path d=\"M 45.40625 46.390625 \nL 45.40625 75.984375 \nL 54.390625 75.984375 \nL 54.390625 0 \nL 45.40625 0 \nL 45.40625 8.203125 \nQ 42.578125 3.328125 38.25 0.953125 \nQ 33.9375 -1.421875 27.875 -1.421875 \nQ 17.96875 -1.421875 11.734375 6.484375 \nQ 5.515625 14.40625 5.515625 27.296875 \nQ 5.515625 40.1875 11.734375 48.09375 \nQ 17.96875 56 27.875 56 \nQ 33.9375 56 38.25 53.625 \nQ 42.578125 51.265625 45.40625 46.390625 \nz\nM 14.796875 27.296875 \nQ 14.796875 17.390625 18.875 11.75 \nQ 22.953125 6.109375 30.078125 6.109375 \nQ 37.203125 6.109375 41.296875 11.75 \nQ 45.40625 17.390625 45.40625 27.296875 \nQ 45.40625 37.203125 41.296875 42.84375 \nQ 37.203125 48.484375 30.078125 48.484375 \nQ 22.953125 48.484375 18.875 42.84375 \nQ 14.796875 37.203125 14.796875 27.296875 \nz\n\" id=\"DejaVuSans-100\"/>\n       <path d=\"M 56.203125 29.59375 \nL 56.203125 25.203125 \nL 14.890625 25.203125 \nQ 15.484375 15.921875 20.484375 11.0625 \nQ 25.484375 6.203125 34.421875 6.203125 \nQ 39.59375 6.203125 44.453125 7.46875 \nQ 49.3125 8.734375 54.109375 11.28125 \nL 54.109375 2.78125 \nQ 49.265625 0.734375 44.1875 -0.34375 \nQ 39.109375 -1.421875 33.890625 -1.421875 \nQ 20.796875 -1.421875 13.15625 6.1875 \nQ 5.515625 13.8125 5.515625 26.8125 \nQ 5.515625 40.234375 12.765625 48.109375 \nQ 20.015625 56 32.328125 56 \nQ 43.359375 56 49.78125 48.890625 \nQ 56.203125 41.796875 56.203125 29.59375 \nz\nM 47.21875 32.234375 \nQ 47.125 39.59375 43.09375 43.984375 \nQ 39.0625 48.390625 32.421875 48.390625 \nQ 24.90625 48.390625 20.390625 44.140625 \nQ 15.875 39.890625 15.1875 32.171875 \nz\n\" id=\"DejaVuSans-101\"/>\n       <path id=\"DejaVuSans-32\"/>\n       <path d=\"M 51.125 44 \nL 36.921875 44 \nL 32.8125 27.6875 \nL 47.125 27.6875 \nz\nM 43.796875 71.78125 \nL 38.71875 51.515625 \nL 52.984375 51.515625 \nL 58.109375 71.78125 \nL 65.921875 71.78125 \nL 60.890625 51.515625 \nL 76.125 51.515625 \nL 76.125 44 \nL 58.984375 44 \nL 54.984375 27.6875 \nL 70.515625 27.6875 \nL 70.515625 20.21875 \nL 53.078125 20.21875 \nL 48 0 \nL 40.1875 0 \nL 45.21875 20.21875 \nL 30.90625 20.21875 \nL 25.875 0 \nL 18.015625 0 \nL 23.09375 20.21875 \nL 7.71875 20.21875 \nL 7.71875 27.6875 \nL 24.90625 27.6875 \nL 29 44 \nL 13.28125 44 \nL 13.28125 51.515625 \nL 30.90625 51.515625 \nL 35.890625 71.78125 \nz\n\" id=\"DejaVuSans-35\"/>\n      </defs>\n      <use xlink:href=\"#DejaVuSans-69\"/>\n      <use x=\"63.183594\" xlink:href=\"#DejaVuSans-112\"/>\n      <use x=\"126.660156\" xlink:href=\"#DejaVuSans-105\"/>\n      <use x=\"154.443359\" xlink:href=\"#DejaVuSans-115\"/>\n      <use x=\"206.542969\" xlink:href=\"#DejaVuSans-111\"/>\n      <use x=\"267.724609\" xlink:href=\"#DejaVuSans-100\"/>\n      <use x=\"331.201172\" xlink:href=\"#DejaVuSans-101\"/>\n      <use x=\"392.724609\" xlink:href=\"#DejaVuSans-32\"/>\n      <use x=\"424.511719\" xlink:href=\"#DejaVuSans-35\"/>\n     </g>\n    </g>\n   </g>\n   <g id=\"matplotlib.axis_2\">\n    <g id=\"ytick_1\">\n     <g id=\"line2d_8\">\n      <defs>\n       <path d=\"M 0 0 \nL -3.5 0 \n\" id=\"m1627dec27d\" style=\"stroke:#000000;stroke-width:0.8;\"/>\n      </defs>\n      <g>\n       <use style=\"stroke:#000000;stroke-width:0.8;\" x=\"40.603125\" xlink:href=\"#m1627dec27d\" y=\"198.283636\"/>\n      </g>\n     </g>\n     <g id=\"text_9\">\n      <!-- 0 -->\n      <g transform=\"translate(27.240625 202.082855)scale(0.1 -0.1)\">\n       <use xlink:href=\"#DejaVuSans-48\"/>\n      </g>\n     </g>\n    </g>\n    <g id=\"ytick_2\">\n     <g id=\"line2d_9\">\n      <g>\n       <use style=\"stroke:#000000;stroke-width:0.8;\" x=\"40.603125\" xlink:href=\"#m1627dec27d\" y=\"157.101818\"/>\n      </g>\n     </g>\n     <g id=\"text_10\">\n      <!-- 5 -->\n      <g transform=\"translate(27.240625 160.901037)scale(0.1 -0.1)\">\n       <use xlink:href=\"#DejaVuSans-53\"/>\n      </g>\n     </g>\n    </g>\n    <g id=\"ytick_3\">\n     <g id=\"line2d_10\">\n      <g>\n       <use style=\"stroke:#000000;stroke-width:0.8;\" x=\"40.603125\" xlink:href=\"#m1627dec27d\" y=\"115.92\"/>\n      </g>\n     </g>\n     <g id=\"text_11\">\n      <!-- 10 -->\n      <g transform=\"translate(20.878125 119.719219)scale(0.1 -0.1)\">\n       <use xlink:href=\"#DejaVuSans-49\"/>\n       <use x=\"63.623047\" xlink:href=\"#DejaVuSans-48\"/>\n      </g>\n     </g>\n    </g>\n    <g id=\"ytick_4\">\n     <g id=\"line2d_11\">\n      <g>\n       <use style=\"stroke:#000000;stroke-width:0.8;\" x=\"40.603125\" xlink:href=\"#m1627dec27d\" y=\"74.738182\"/>\n      </g>\n     </g>\n     <g id=\"text_12\">\n      <!-- 15 -->\n      <g transform=\"translate(20.878125 78.537401)scale(0.1 -0.1)\">\n       <use xlink:href=\"#DejaVuSans-49\"/>\n       <use x=\"63.623047\" xlink:href=\"#DejaVuSans-53\"/>\n      </g>\n     </g>\n    </g>\n    <g id=\"ytick_5\">\n     <g id=\"line2d_12\">\n      <g>\n       <use style=\"stroke:#000000;stroke-width:0.8;\" x=\"40.603125\" xlink:href=\"#m1627dec27d\" y=\"33.556364\"/>\n      </g>\n     </g>\n     <g id=\"text_13\">\n      <!-- 20 -->\n      <g transform=\"translate(20.878125 37.355582)scale(0.1 -0.1)\">\n       <use xlink:href=\"#DejaVuSans-50\"/>\n       <use x=\"63.623047\" xlink:href=\"#DejaVuSans-48\"/>\n      </g>\n     </g>\n    </g>\n    <g id=\"text_14\">\n     <!-- Score -->\n     <g transform=\"translate(14.798438 129.922344)rotate(-90)scale(0.1 -0.1)\">\n      <defs>\n       <path d=\"M 53.515625 70.515625 \nL 53.515625 60.890625 \nQ 47.90625 63.578125 42.921875 64.890625 \nQ 37.9375 66.21875 33.296875 66.21875 \nQ 25.25 66.21875 20.875 63.09375 \nQ 16.5 59.96875 16.5 54.203125 \nQ 16.5 49.359375 19.40625 46.890625 \nQ 22.3125 44.4375 30.421875 42.921875 \nL 36.375 41.703125 \nQ 47.40625 39.59375 52.65625 34.296875 \nQ 57.90625 29 57.90625 20.125 \nQ 57.90625 9.515625 50.796875 4.046875 \nQ 43.703125 -1.421875 29.984375 -1.421875 \nQ 24.8125 -1.421875 18.96875 -0.25 \nQ 13.140625 0.921875 6.890625 3.21875 \nL 6.890625 13.375 \nQ 12.890625 10.015625 18.65625 8.296875 \nQ 24.421875 6.59375 29.984375 6.59375 \nQ 38.421875 6.59375 43.015625 9.90625 \nQ 47.609375 13.234375 47.609375 19.390625 \nQ 47.609375 24.75 44.3125 27.78125 \nQ 41.015625 30.8125 33.5 32.328125 \nL 27.484375 33.5 \nQ 16.453125 35.6875 11.515625 40.375 \nQ 6.59375 45.0625 6.59375 53.421875 \nQ 6.59375 63.09375 13.40625 68.65625 \nQ 20.21875 74.21875 32.171875 74.21875 \nQ 37.3125 74.21875 42.625 73.28125 \nQ 47.953125 72.359375 53.515625 70.515625 \nz\n\" id=\"DejaVuSans-83\"/>\n       <path d=\"M 48.78125 52.59375 \nL 48.78125 44.1875 \nQ 44.96875 46.296875 41.140625 47.34375 \nQ 37.3125 48.390625 33.40625 48.390625 \nQ 24.65625 48.390625 19.8125 42.84375 \nQ 14.984375 37.3125 14.984375 27.296875 \nQ 14.984375 17.28125 19.8125 11.734375 \nQ 24.65625 6.203125 33.40625 6.203125 \nQ 37.3125 6.203125 41.140625 7.25 \nQ 44.96875 8.296875 48.78125 10.40625 \nL 48.78125 2.09375 \nQ 45.015625 0.34375 40.984375 -0.53125 \nQ 36.96875 -1.421875 32.421875 -1.421875 \nQ 20.0625 -1.421875 12.78125 6.34375 \nQ 5.515625 14.109375 5.515625 27.296875 \nQ 5.515625 40.671875 12.859375 48.328125 \nQ 20.21875 56 33.015625 56 \nQ 37.15625 56 41.109375 55.140625 \nQ 45.0625 54.296875 48.78125 52.59375 \nz\n\" id=\"DejaVuSans-99\"/>\n       <path d=\"M 41.109375 46.296875 \nQ 39.59375 47.171875 37.8125 47.578125 \nQ 36.03125 48 33.890625 48 \nQ 26.265625 48 22.1875 43.046875 \nQ 18.109375 38.09375 18.109375 28.8125 \nL 18.109375 0 \nL 9.078125 0 \nL 9.078125 54.6875 \nL 18.109375 54.6875 \nL 18.109375 46.1875 \nQ 20.953125 51.171875 25.484375 53.578125 \nQ 30.03125 56 36.53125 56 \nQ 37.453125 56 38.578125 55.875 \nQ 39.703125 55.765625 41.0625 55.515625 \nz\n\" id=\"DejaVuSans-114\"/>\n      </defs>\n      <use xlink:href=\"#DejaVuSans-83\"/>\n      <use x=\"63.476562\" xlink:href=\"#DejaVuSans-99\"/>\n      <use x=\"118.457031\" xlink:href=\"#DejaVuSans-111\"/>\n      <use x=\"179.638672\" xlink:href=\"#DejaVuSans-114\"/>\n      <use x=\"218.501953\" xlink:href=\"#DejaVuSans-101\"/>\n     </g>\n    </g>\n   </g>\n   <g id=\"line2d_13\">\n    <path clip-path=\"url(#p9ef3f872e3)\" d=\"M 55.821307 198.283636 \nL 60.489461 198.283636 \nL 61.423092 181.810909 \nL 62.356722 198.283636 \nL 63.290353 206.52 \nL 64.223984 206.52 \nL 65.157615 198.283636 \nL 66.091245 214.756364 \nL 67.024876 198.283636 \nL 68.892138 198.283636 \nL 69.825769 206.52 \nL 70.759399 206.52 \nL 71.69303 198.283636 \nL 72.626661 198.283636 \nL 73.560292 214.756364 \nL 74.493923 198.283636 \nL 76.361184 198.283636 \nL 77.294815 206.52 \nL 78.228446 198.283636 \nL 80.095707 198.283636 \nL 81.029338 206.52 \nL 81.962969 206.52 \nL 82.8966 173.574545 \nL 83.83023 198.283636 \nL 84.763861 198.283636 \nL 85.697492 206.52 \nL 86.631123 190.047273 \nL 87.564754 206.52 \nL 88.498384 181.810909 \nL 89.432015 173.574545 \nL 90.365646 190.047273 \nL 92.232907 206.52 \nL 93.166538 198.283636 \nL 94.100169 181.810909 \nL 95.0338 198.283636 \nL 95.967431 198.283636 \nL 96.901061 181.810909 \nL 97.834692 206.52 \nL 98.768323 206.52 \nL 99.701954 190.047273 \nL 100.635585 198.283636 \nL 101.569215 181.810909 \nL 102.502846 190.047273 \nL 103.436477 206.52 \nL 104.370108 190.047273 \nL 107.171 190.047273 \nL 108.104631 173.574545 \nL 109.971892 206.52 \nL 110.905523 181.810909 \nL 112.772785 198.283636 \nL 113.706416 173.574545 \nL 114.640046 173.574545 \nL 115.573677 157.101818 \nL 116.507308 181.810909 \nL 118.37457 198.283636 \nL 119.3082 181.810909 \nL 120.241831 190.047273 \nL 122.109093 190.047273 \nL 123.042723 173.574545 \nL 123.976354 198.283636 \nL 124.909985 190.047273 \nL 125.843616 198.283636 \nL 128.644508 173.574545 \nL 130.51177 124.156364 \nL 131.445401 190.047273 \nL 132.379031 165.338182 \nL 133.312662 181.810909 \nL 134.246293 165.338182 \nL 135.179924 181.810909 \nL 137.047185 181.810909 \nL 137.980816 190.047273 \nL 138.914447 165.338182 \nL 139.848078 157.101818 \nL 140.781708 181.810909 \nL 141.715339 190.047273 \nL 142.64897 165.338182 \nL 145.449862 190.047273 \nL 146.383493 181.810909 \nL 147.317124 198.283636 \nL 148.250755 173.574545 \nL 149.184385 181.810909 \nL 151.051647 132.392727 \nL 151.985278 157.101818 \nL 152.918909 148.865455 \nL 153.852539 181.810909 \nL 154.78617 173.574545 \nL 155.719801 140.629091 \nL 156.653432 181.810909 \nL 157.587063 173.574545 \nL 158.520693 173.574545 \nL 159.454324 181.810909 \nL 160.387955 181.810909 \nL 161.321586 173.574545 \nL 162.255216 157.101818 \nL 163.188847 157.101818 \nL 164.122478 148.865455 \nL 165.98974 115.92 \nL 166.92337 165.338182 \nL 167.857001 173.574545 \nL 168.790632 140.629091 \nL 169.724263 165.338182 \nL 170.657894 148.865455 \nL 171.591524 157.101818 \nL 172.525155 173.574545 \nL 173.458786 148.865455 \nL 174.392417 107.683636 \nL 175.326047 132.392727 \nL 176.259678 140.629091 \nL 178.12694 140.629091 \nL 179.060571 107.683636 \nL 179.994201 132.392727 \nL 180.927832 140.629091 \nL 182.795094 107.683636 \nL 183.728725 148.865455 \nL 184.662355 124.156364 \nL 185.595986 107.683636 \nL 186.529617 173.574545 \nL 187.463248 115.92 \nL 188.396878 107.683636 \nL 190.26414 124.156364 \nL 191.197771 99.447273 \nL 192.131402 132.392727 \nL 193.998663 99.447273 \nL 194.932294 140.629091 \nL 195.865925 173.574545 \nL 196.799556 140.629091 \nL 197.733186 140.629091 \nL 198.666817 157.101818 \nL 199.600448 140.629091 \nL 200.534079 107.683636 \nL 201.467709 198.283636 \nL 202.40134 124.156364 \nL 203.334971 132.392727 \nL 205.202233 165.338182 \nL 206.135863 157.101818 \nL 207.069494 107.683636 \nL 208.003125 157.101818 \nL 208.936756 115.92 \nL 209.870387 124.156364 \nL 210.804017 74.738182 \nL 211.737648 190.047273 \nL 212.671279 165.338182 \nL 213.60491 124.156364 \nL 214.538541 140.629091 \nL 215.472171 132.392727 \nL 216.405802 107.683636 \nL 217.339433 148.865455 \nL 218.273064 148.865455 \nL 219.206694 99.447273 \nL 220.140325 173.574545 \nL 221.073956 140.629091 \nL 222.007587 99.447273 \nL 222.941218 132.392727 \nL 223.874848 99.447273 \nL 224.808479 115.92 \nL 225.74211 148.865455 \nL 226.675741 140.629091 \nL 227.609372 107.683636 \nL 228.543002 132.392727 \nL 229.476633 82.974545 \nL 230.410264 107.683636 \nL 231.343895 91.210909 \nL 232.277525 173.574545 \nL 233.211156 91.210909 \nL 234.144787 132.392727 \nL 235.078418 115.92 \nL 236.012049 107.683636 \nL 236.945679 107.683636 \nL 238.812941 124.156364 \nL 239.746572 140.629091 \nL 240.680203 107.683636 \nL 241.613833 107.683636 \nL 242.547464 148.865455 \nL 243.481095 107.683636 \nL 244.414726 107.683636 \nL 245.348356 115.92 \nL 246.281987 107.683636 \nL 247.215618 124.156364 \nL 248.149249 66.501818 \nL 249.08288 115.92 \nL 250.01651 198.283636 \nL 250.950141 99.447273 \nL 251.883772 107.683636 \nL 252.817403 58.265455 \nL 253.751034 115.92 \nL 255.618295 115.92 \nL 256.551926 140.629091 \nL 257.485557 173.574545 \nL 258.419187 91.210909 \nL 259.352818 107.683636 \nL 260.286449 115.92 \nL 261.22008 132.392727 \nL 262.153711 99.447273 \nL 263.087341 107.683636 \nL 264.020972 99.447273 \nL 264.954603 124.156364 \nL 266.821865 91.210909 \nL 267.755495 91.210909 \nL 268.689126 99.447273 \nL 269.622757 157.101818 \nL 270.556388 82.974545 \nL 272.423649 115.92 \nL 273.35728 33.556364 \nL 274.290911 66.501818 \nL 275.224542 91.210909 \nL 276.158172 140.629091 \nL 277.091803 82.974545 \nL 278.025434 91.210909 \nL 278.959065 74.738182 \nL 279.892696 107.683636 \nL 280.826326 66.501818 \nL 281.759957 165.338182 \nL 282.693588 82.974545 \nL 283.627219 82.974545 \nL 284.560849 115.92 \nL 285.49448 74.738182 \nL 286.428111 58.265455 \nL 287.361742 124.156364 \nL 288.295373 82.974545 \nL 289.229003 124.156364 \nL 290.162634 82.974545 \nL 291.096265 91.210909 \nL 292.029896 82.974545 \nL 292.963527 99.447273 \nL 293.897157 91.210909 \nL 294.830788 115.92 \nL 295.764419 17.083636 \nL 296.69805 99.447273 \nL 297.63168 99.447273 \nL 298.565311 124.156364 \nL 299.498942 74.738182 \nL 300.432573 82.974545 \nL 301.366204 82.974545 \nL 302.299834 124.156364 \nL 303.233465 99.447273 \nL 304.167096 99.447273 \nL 305.100727 132.392727 \nL 306.967988 82.974545 \nL 307.901619 66.501818 \nL 308.83525 82.974545 \nL 309.768881 66.501818 \nL 310.702512 66.501818 \nL 311.636142 99.447273 \nL 312.569773 33.556364 \nL 313.503404 66.501818 \nL 314.437035 74.738182 \nL 315.370665 99.447273 \nL 316.304296 74.738182 \nL 317.237927 107.683636 \nL 318.171558 91.210909 \nL 319.105189 91.210909 \nL 320.038819 58.265455 \nL 320.97245 99.447273 \nL 321.906081 107.683636 \nL 322.839712 124.156364 \nL 323.773343 66.501818 \nL 324.706973 50.029091 \nL 325.640604 82.974545 \nL 326.574235 74.738182 \nL 327.507866 107.683636 \nL 328.441496 99.447273 \nL 329.375127 99.447273 \nL 330.308758 50.029091 \nL 331.242389 58.265455 \nL 332.17602 115.92 \nL 333.10965 132.392727 \nL 334.043281 107.683636 \nL 334.976912 74.738182 \nL 335.910543 99.447273 \nL 336.844174 115.92 \nL 338.711435 50.029091 \nL 339.645066 132.392727 \nL 340.578697 140.629091 \nL 341.512327 41.792727 \nL 342.445958 91.210909 \nL 343.379589 41.792727 \nL 344.31322 91.210909 \nL 345.246851 115.92 \nL 346.180481 115.92 \nL 347.114112 91.210909 \nL 348.047743 74.738182 \nL 348.981374 91.210909 \nL 349.915005 82.974545 \nL 350.848635 107.683636 \nL 351.782266 74.738182 \nL 352.715897 99.447273 \nL 353.649528 115.92 \nL 354.583158 124.156364 \nL 355.516789 99.447273 \nL 356.45042 82.974545 \nL 357.384051 82.974545 \nL 358.317682 124.156364 \nL 359.251312 91.210909 \nL 360.184943 25.32 \nL 360.184943 25.32 \n\" style=\"fill:none;stroke:#1f77b4;stroke-linecap:square;stroke-width:1.5;\"/>\n   </g>\n   <g id=\"patch_3\">\n    <path d=\"M 40.603125 224.64 \nL 40.603125 7.2 \n\" style=\"fill:none;stroke:#000000;stroke-linecap:square;stroke-linejoin:miter;stroke-width:0.8;\"/>\n   </g>\n   <g id=\"patch_4\">\n    <path d=\"M 375.403125 224.64 \nL 375.403125 7.2 \n\" style=\"fill:none;stroke:#000000;stroke-linecap:square;stroke-linejoin:miter;stroke-width:0.8;\"/>\n   </g>\n   <g id=\"patch_5\">\n    <path d=\"M 40.603125 224.64 \nL 375.403125 224.64 \n\" style=\"fill:none;stroke:#000000;stroke-linecap:square;stroke-linejoin:miter;stroke-width:0.8;\"/>\n   </g>\n   <g id=\"patch_6\">\n    <path d=\"M 40.603125 7.2 \nL 375.403125 7.2 \n\" style=\"fill:none;stroke:#000000;stroke-linecap:square;stroke-linejoin:miter;stroke-width:0.8;\"/>\n   </g>\n  </g>\n </g>\n <defs>\n  <clipPath id=\"p9ef3f872e3\">\n   <rect height=\"217.44\" width=\"334.8\" x=\"40.603125\" y=\"7.2\"/>\n  </clipPath>\n </defs>\n</svg>\n",
      "image/png": "[encoded data removed]"
     },
     "metadata": {
      "needs_background": "light"
     }
    }
   ],
   "source": [
    "fig = plt.figure()\n",
    "ax = fig.add_subplot(111)\n",
    "plt.plot(np.arange(len(scores)), scores)\n",
    "plt.ylabel('Score')\n",
    "plt.xlabel('Episode #')\n",
    "fig.savefig('images/dqn_score.png', bbox_inches='tight')\n",
    "plt.show()"
   ]
  },
  {
   "cell_type": "code",
   "execution_count": 7,
   "metadata": {},
   "outputs": [
    {
     "output_type": "execute_result",
     "data": {
      "text/plain": [
       "<All keys matched successfully>"
      ]
     },
     "metadata": {},
     "execution_count": 7
    }
   ],
   "source": [
    "import torch\n",
    "agent.q_local.load_state_dict(torch.load('models/model_q_local.pth'))"
   ]
  },
  {
   "cell_type": "code",
   "execution_count": 8,
   "metadata": {},
   "outputs": [
    {
     "output_type": "stream",
     "name": "stdout",
     "text": [
      "Score: 10.0\n"
     ]
    }
   ],
   "source": [
    "env_info = env.reset(train_mode=False)[brain_name] # reset the environment\n",
    "state = env_info.vector_observations[0]            # get the current state\n",
    "score = 0                                          # initialize the score\n",
    "\n",
    "while True:\n",
    "    action = (int)(agent.choose_action(state))     # select an action\n",
    "    env_info = env.step(action)[brain_name]        # send the action to the environment\n",
    "    next_state = env_info.vector_observations[0]   # get the next state\n",
    "    reward = env_info.rewards[0]                   # get the reward\n",
    "    done = env_info.local_done[0]                  # see if episode has finished\n",
    "    score += reward                                # update the score\n",
    "    state = next_state                             # roll over the state to next time step\n",
    "    if done:                                       # exit loop if episode finished\n",
    "        break\n",
    "    \n",
    "print(\"Score: {}\".format(score))"
   ]
  },
  {
   "cell_type": "code",
   "execution_count": 9,
   "metadata": {},
   "outputs": [],
   "source": [
    "env.close()"
   ]
  },
  {
   "cell_type": "code",
   "execution_count": null,
   "metadata": {},
   "outputs": [],
   "source": []
  }
 ],
 "metadata": {
  "kernelspec": {
   "name": "python3",
   "display_name": "Python 3.6.12 64-bit ('drlnd': conda)",
   "metadata": {
    "interpreter": {
     "hash": "22f86722d387c69658b3811798db5c8cca73f88868498a51c04ce3540f7e8bc5"
    }
   }
  },
  "language_info": {
   "codemirror_mode": {
    "name": "ipython",
    "version": 3
   },
   "file_extension": ".py",
   "mimetype": "text/x-python",
   "name": "python",
   "nbconvert_exporter": "python",
   "pygments_lexer": "ipython3",
   "version": "3.6.12-final"
  }
 },
 "nbformat": 4,
 "nbformat_minor": 2
}